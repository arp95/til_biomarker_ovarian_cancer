{
 "cells": [
  {
   "cell_type": "code",
   "execution_count": 1,
   "id": "1ff94abb",
   "metadata": {},
   "outputs": [],
   "source": [
    "# header files\n",
    "import numpy as np\n",
    "import glob\n",
    "import cv2"
   ]
  },
  {
   "cell_type": "code",
   "execution_count": 2,
   "id": "204fd215",
   "metadata": {},
   "outputs": [
    {
     "name": "stdout",
     "output_type": "stream",
     "text": [
      "(668, 556)\n"
     ]
    }
   ],
   "source": [
    "# read image in grayscale\n",
    "image = cv2.imread(\"../../image.png\", 0)\n",
    "print(image.shape)"
   ]
  },
  {
   "cell_type": "code",
   "execution_count": 3,
   "id": "3967efcb",
   "metadata": {},
   "outputs": [],
   "source": [
    "# apply histogram equilization\n",
    "clahe = cv2.createCLAHE(clipLimit=2.0, tileGridSize=(8, 8))\n",
    "image_histequalized = clahe.apply(image)"
   ]
  },
  {
   "cell_type": "code",
   "execution_count": 4,
   "id": "97bfafb7",
   "metadata": {},
   "outputs": [
    {
     "name": "stdout",
     "output_type": "stream",
     "text": [
      "(668, 556)\n"
     ]
    }
   ],
   "source": [
    "# get binary image\n",
    "_, image_binary = cv2.threshold(image_histequalized, 120, 255, cv2.THRESH_BINARY + cv2.THRESH_OTSU)\n",
    "print(image_binary.shape)"
   ]
  },
  {
   "cell_type": "code",
   "execution_count": 5,
   "id": "51efae9a",
   "metadata": {},
   "outputs": [
    {
     "name": "stdout",
     "output_type": "stream",
     "text": [
      "(668, 556)\n"
     ]
    }
   ],
   "source": [
    "# apply median filter\n",
    "image_denoised = cv2.medianBlur(image_binary, 3)\n",
    "print(image_denoised.shape)"
   ]
  },
  {
   "cell_type": "code",
   "execution_count": 6,
   "id": "bb789dee",
   "metadata": {},
   "outputs": [
    {
     "data": {
      "text/plain": [
       "True"
      ]
     },
     "execution_count": 6,
     "metadata": {},
     "output_type": "execute_result"
    }
   ],
   "source": [
    "cv2.imwrite(\"../../output_image.png\", image_denoised)"
   ]
  },
  {
   "cell_type": "code",
   "execution_count": null,
   "id": "58a14dc6",
   "metadata": {},
   "outputs": [],
   "source": []
  }
 ],
 "metadata": {
  "kernelspec": {
   "display_name": "Python 3",
   "language": "python",
   "name": "python3"
  },
  "language_info": {
   "codemirror_mode": {
    "name": "ipython",
    "version": 3
   },
   "file_extension": ".py",
   "mimetype": "text/x-python",
   "name": "python",
   "nbconvert_exporter": "python",
   "pygments_lexer": "ipython3",
   "version": "3.8.8"
  }
 },
 "nbformat": 4,
 "nbformat_minor": 5
}
