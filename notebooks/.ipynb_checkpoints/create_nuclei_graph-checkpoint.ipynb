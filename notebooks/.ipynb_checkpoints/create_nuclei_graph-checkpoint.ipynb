{
 "cells": [
  {
   "cell_type": "code",
   "execution_count": 21,
   "id": "778d7287",
   "metadata": {},
   "outputs": [],
   "source": [
    "# header files\n",
    "import numpy as np\n",
    "import glob\n",
    "import csv\n",
    "import ast\n",
    "import math"
   ]
  },
  {
   "cell_type": "code",
   "execution_count": 39,
   "id": "ac48571f",
   "metadata": {},
   "outputs": [],
   "source": [
    "# hyper-parameters\n",
    "alpha = 1\n",
    "r = 1"
   ]
  },
  {
   "cell_type": "code",
   "execution_count": 11,
   "id": "bb8f7fe1",
   "metadata": {},
   "outputs": [
    {
     "name": "stdout",
     "output_type": "stream",
     "text": [
      "['../results/nuclei_csvs/TCGA-23-1123_21000_12000.csv']\n"
     ]
    }
   ],
   "source": [
    "files = glob.glob(\"../results/nuclei_csvs/*\")\n",
    "print(files)"
   ]
  },
  {
   "cell_type": "code",
   "execution_count": 18,
   "id": "6dae463a",
   "metadata": {},
   "outputs": [],
   "source": [
    "# read csv\n",
    "flag = -1\n",
    "epi_tils_centroids = []\n",
    "epi_ntils_centroids = []\n",
    "stroma_tils_centroids = []\n",
    "stroma_ntils_centroids = []\n",
    "with open(files[0], newline='') as csvfile:\n",
    "    spamreader = csv.reader(csvfile)\n",
    "    for row in spamreader:\n",
    "        if flag == -1:\n",
    "            array = row\n",
    "            flag = 1\n",
    "        else:\n",
    "            array = row\n",
    "            \n",
    "            # epi tils\n",
    "            centroid = list(ast.literal_eval(array[2]))\n",
    "            if int(array[3]) == 1 and int(array[4]) == 1:\n",
    "                epi_tils_centroids.append(centroid)\n",
    "                \n",
    "            # epi non-tils\n",
    "            if int(array[3]) == 0 and int(array[4]) == 1:\n",
    "                epi_ntils_centroids.append(centroid)\n",
    "                \n",
    "            # stroma tils\n",
    "            if int(array[3]) == 1 and int(array[4]) == 0:\n",
    "                stroma_tils_centroids.append(centroid)\n",
    "                \n",
    "            # stroma non-tils\n",
    "            if int(array[3]) == 0 and int(array[4]) == 0:\n",
    "                stroma_ntils_centroids.append(centroid)"
   ]
  },
  {
   "cell_type": "code",
   "execution_count": 19,
   "id": "3806e3ab",
   "metadata": {},
   "outputs": [
    {
     "name": "stdout",
     "output_type": "stream",
     "text": [
      "7\n",
      "590\n",
      "3\n",
      "45\n"
     ]
    }
   ],
   "source": [
    "print(len(epi_tils_centroids))\n",
    "print(len(epi_ntils_centroids))\n",
    "print(len(stroma_tils_centroids))\n",
    "print(len(stroma_ntils_centroids))"
   ]
  },
  {
   "cell_type": "code",
   "execution_count": 37,
   "id": "a0309ec8",
   "metadata": {},
   "outputs": [
    {
     "name": "stdout",
     "output_type": "stream",
     "text": [
      "[[140, 47], [140, 69], [687, 173], [283, 458], [917, 602], [972, 642], [498, 755]]\n",
      "[1, 1, 1, 1, 1, 1, 1]\n"
     ]
    }
   ],
   "source": [
    "# creating graph among epi-tils\n",
    "group_epi_tils = []\n",
    "for index in range(0, len(epi_tils_centroids)):\n",
    "    group_epi_tils.append(-1)\n",
    "\n",
    "count = 1\n",
    "for index1 in range(0, len(epi_tils_centroids)-1):\n",
    "    for index2 in range(index1+1, len(epi_tils_centroids)):\n",
    "        distance = math.dist(epi_tils_centroids[index1], epi_tils_centroids[index2])**(-alpha)\n",
    "        if distance > r:\n",
    "            if group_epi_tils[index1] == -1 and group_epi_tils[index2] == -1:\n",
    "                group_epi_tils[index1] = count\n",
    "                group_epi_tils[index2] = count\n",
    "                count += 1\n",
    "            elif group_epi_tils[index1] == -1:\n",
    "                group_epi_tils[index1] = group_epi_tils[index2]\n",
    "            elif group_epi_tils[index2] == -1:\n",
    "                group_epi_tils[index2] = group_epi_tils[index1]\n",
    "            else:\n",
    "                if group_epi_tils[index1] < group_epi_tils[index2]:\n",
    "                    for index3 in range(0, len(epi_tils_centroids)):\n",
    "                        if group_epi_tils[index3] == group_epi_tils[index2]:\n",
    "                            group_epi_tils[index3] = group_epi_tils[index1]\n",
    "                else:\n",
    "                    for index3 in range(0, len(epi_tils_centroids)):\n",
    "                        if group_epi_tils[index3] == group_epi_tils[index1]:\n",
    "                            group_epi_tils[index3] = group_epi_tils[index2]\n",
    "\n",
    "for index in range(0, len(epi_tils_centroids)):\n",
    "    if group_epi_tils[index] == -1:\n",
    "        group_epi_tils[index] = count\n",
    "        count += 1\n",
    "      \n",
    "    \n",
    "print(epi_tils_centroids)\n",
    "print(group_epi_tils)"
   ]
  },
  {
   "cell_type": "code",
   "execution_count": 40,
   "id": "e03e2055",
   "metadata": {},
   "outputs": [
    {
     "name": "stdout",
     "output_type": "stream",
     "text": [
      "[[50, 10], [71, 6], [89, 3], [138, 16], [203, 12], [439, 4], [497, 4], [536, 9], [893, 11], [959, 4], [974, 1], [275, 9], [16, 12], [463, 17], [938, 14], [844, 17], [673, 20], [874, 24], [914, 23], [966, 25], [723, 23], [361, 27], [821, 37], [238, 25], [259, 21], [389, 29], [857, 24], [436, 29], [552, 39], [282, 29], [46, 34], [802, 46], [21, 42], [660, 43], [732, 52], [894, 46], [276, 50], [925, 52], [766, 62], [983, 58], [851, 58], [910, 55], [707, 64], [875, 70], [14, 66], [995, 66], [51, 69], [90, 72], [263, 72], [498, 79], [890, 78], [909, 89], [653, 86], [693, 84], [187, 79], [206, 84], [796, 95], [742, 87], [4, 82], [990, 87], [271, 82], [63, 89], [127, 83], [414, 96], [25, 92], [849, 88], [380, 94], [345, 99], [558, 101], [619, 100], [761, 105], [285, 101], [175, 96], [882, 99], [244, 104], [678, 106], [486, 107], [47, 110], [839, 108], [260, 112], [304, 111], [701, 109], [136, 112], [655, 122], [21, 119], [159, 115], [610, 130], [946, 132], [690, 130], [993, 128], [852, 128], [313, 135], [284, 127], [421, 135], [478, 133], [818, 144], [973, 146], [7, 145], [173, 152], [457, 147], [716, 148], [288, 148], [850, 143], [325, 151], [659, 158], [116, 151], [145, 157], [528, 154], [246, 165], [76, 168], [796, 162], [341, 166], [832, 170], [730, 172], [359, 181], [506, 175], [10, 164], [234, 168], [107, 174], [539, 178], [397, 171], [935, 173], [302, 170], [620, 183], [462, 173], [756, 179], [27, 181], [135, 185], [957, 187], [802, 181], [158, 188], [485, 190], [579, 192], [306, 190], [236, 193], [445, 205], [41, 186], [784, 191], [661, 207], [815, 201], [105, 196], [682, 204], [932, 215], [552, 205], [329, 203], [607, 208], [69, 208], [185, 212], [31, 207], [718, 212], [413, 217], [465, 218], [477, 227], [702, 219], [789, 221], [215, 227], [106, 231], [758, 225], [330, 225], [570, 231], [624, 234], [978, 232], [353, 229], [396, 228], [680, 224], [61, 229], [530, 228], [13, 242], [593, 238], [243, 238], [168, 246], [367, 244], [83, 243], [926, 247], [833, 248], [442, 249], [401, 252], [758, 256], [143, 261], [737, 250], [979, 256], [343, 267], [517, 263], [812, 261], [59, 264], [84, 267], [108, 269], [622, 267], [729, 271], [994, 268], [569, 277], [471, 274], [922, 274], [370, 275], [837, 277], [281, 277], [395, 281], [248, 282], [687, 281], [205, 285], [802, 290], [656, 292], [178, 302], [231, 313], [124, 294], [550, 298], [696, 300], [724, 294], [907, 301], [450, 298], [515, 304], [290, 306], [469, 303], [764, 307], [939, 302], [622, 306], [386, 304], [86, 303], [425, 309], [488, 306], [586, 312], [959, 315], [205, 309], [879, 310], [106, 318], [711, 322], [892, 331], [171, 322], [657, 331], [490, 329], [150, 338], [96, 336], [189, 334], [862, 337], [282, 337], [303, 343], [544, 348], [513, 349], [216, 350], [953, 352], [472, 342], [613, 342], [702, 346], [643, 352], [252, 354], [194, 359], [50, 359], [858, 356], [992, 354], [913, 366], [563, 362], [675, 369], [241, 386], [285, 373], [614, 373], [84, 373], [824, 378], [147, 379], [844, 383], [646, 391], [177, 388], [564, 385], [891, 382], [129, 396], [916, 391], [611, 395], [681, 402], [589, 408], [994, 403], [963, 415], [306, 403], [202, 409], [571, 416], [853, 408], [159, 419], [225, 427], [857, 433], [137, 437], [992, 434], [99, 446], [204, 441], [924, 451], [32, 452], [883, 460], [154, 465], [56, 471], [94, 472], [201, 465], [10, 480], [121, 477], [273, 474], [290, 476], [206, 482], [362, 482], [963, 499], [329, 498], [101, 490], [744, 497], [918, 505], [252, 504], [221, 510], [26, 512], [791, 518], [278, 521], [79, 525], [105, 523], [731, 529], [147, 531], [943, 527], [182, 531], [346, 528], [237, 530], [123, 537], [759, 532], [339, 561], [710, 542], [917, 533], [792, 545], [34, 548], [859, 546], [992, 540], [987, 566], [826, 552], [241, 548], [223, 555], [101, 558], [9, 560], [740, 557], [148, 568], [188, 567], [708, 576], [797, 571], [858, 577], [961, 579], [829, 578], [37, 582], [736, 577], [4, 582], [220, 588], [105, 585], [325, 597], [270, 594], [748, 593], [171, 599], [196, 596], [561, 597], [769, 599], [826, 603], [114, 604], [146, 601], [797, 610], [299, 612], [92, 610], [596, 627], [214, 619], [4, 619], [54, 626], [146, 619], [247, 629], [333, 627], [125, 624], [281, 634], [185, 634], [30, 633], [84, 637], [111, 637], [219, 644], [355, 657], [257, 652], [165, 647], [642, 655], [192, 657], [110, 658], [13, 666], [134, 666], [307, 667], [34, 684], [98, 680], [67, 684], [162, 680], [813, 674], [688, 680], [374, 686], [424, 683], [190, 681], [970, 706], [861, 699], [339, 705], [994, 705], [4, 698], [273, 706], [414, 705], [156, 702], [832, 705], [468, 721], [300, 714], [217, 712], [34, 714], [96, 721], [162, 721], [195, 728], [742, 726], [256, 728], [223, 734], [929, 744], [954, 747], [50, 736], [131, 736], [864, 738], [316, 739], [782, 751], [560, 745], [277, 748], [605, 748], [489, 744], [807, 756], [384, 751], [842, 747], [450, 755], [207, 746], [734, 762], [5, 754], [243, 753], [865, 768], [891, 761], [138, 761], [165, 766], [189, 762], [641, 766], [351, 759], [477, 763], [20, 764], [65, 767], [537, 773], [599, 773], [927, 774], [94, 772], [763, 784], [249, 775], [337, 776], [281, 774], [379, 776], [817, 793], [466, 795], [78, 795], [516, 799], [392, 794], [738, 803], [321, 814], [643, 805], [278, 801], [415, 813], [112, 818], [195, 812], [39, 827], [234, 814], [263, 814], [12, 820], [991, 826], [442, 821], [344, 827], [151, 817], [832, 824], [82, 815], [665, 829], [951, 827], [498, 827], [729, 822], [593, 826], [848, 823], [631, 827], [716, 836], [134, 838], [745, 838], [299, 845], [580, 841], [968, 844], [223, 849], [241, 853], [445, 849], [461, 850], [705, 854], [351, 855], [786, 856], [845, 856], [487, 861], [649, 861], [73, 861], [123, 864], [210, 869], [37, 861], [536, 864], [591, 866], [291, 865], [19, 872], [515, 877], [160, 872], [95, 867], [186, 874], [456, 873], [436, 877], [965, 880], [57, 872], [908, 884], [3, 880], [772, 879], [404, 896], [93, 882], [886, 885], [707, 885], [47, 885], [572, 890], [468, 891], [642, 898], [996, 890], [129, 892], [811, 899], [375, 898], [495, 898], [195, 896], [554, 906], [734, 901], [768, 900], [223, 904], [855, 917], [323, 920], [981, 911], [830, 912], [932, 904], [29, 910], [886, 916], [11, 908], [156, 913], [452, 917], [955, 925], [178, 920], [354, 923], [510, 932], [3, 924], [800, 931], [34, 928], [142, 934], [205, 935], [613, 942], [291, 946], [671, 935], [648, 944], [80, 940], [441, 954], [4, 941], [781, 951], [703, 947], [531, 952], [384, 946], [493, 960], [925, 948], [726, 960], [154, 961], [102, 961], [516, 961], [756, 971], [231, 963], [188, 966], [397, 962], [592, 973], [973, 964], [808, 965], [866, 974], [38, 968], [616, 977], [920, 983], [277, 983], [205, 985], [993, 986], [960, 987], [54, 982], [128, 986], [666, 986], [485, 986], [826, 990], [342, 991], [451, 991], [570, 991], [304, 992], [851, 992], [895, 992], [639, 992], [119, 994], [805, 995], [706, 996]]\n",
      "[1, 1, 1, 85, 86, 87, 88, 89, 2, 3, 3, 4, 90, 91, 3, 2, 92, 2, 93, 3, 94, 95, 6, 4, 4, 96, 2, 97, 98, 4, 99, 6, 100, 101, 102, 7, 4, 7, 103, 8, 104, 7, 105, 9, 10, 8, 11, 106, 12, 107, 9, 9, 108, 109, 13, 13, 110, 111, 10, 8, 12, 11, 112, 113, 10, 14, 114, 115, 116, 117, 118, 15, 13, 9, 16, 17, 119, 120, 14, 16, 15, 17, 18, 121, 122, 18, 123, 124, 125, 126, 19, 20, 21, 127, 128, 129, 130, 22, 131, 132, 133, 21, 19, 20, 134, 135, 136, 137, 23, 138, 24, 20, 139, 140, 141, 142, 22, 23, 25, 143, 144, 145, 26, 146, 147, 148, 27, 28, 149, 24, 28, 150, 151, 26, 152, 153, 27, 24, 29, 154, 25, 29, 155, 156, 30, 157, 31, 158, 27, 29, 33, 34, 34, 29, 159, 160, 161, 162, 30, 163, 164, 165, 30, 33, 29, 31, 166, 167, 168, 169, 170, 30, 171, 172, 173, 174, 175, 35, 176, 35, 36, 177, 178, 179, 180, 181, 182, 183, 35, 36, 184, 185, 186, 187, 188, 189, 190, 191, 37, 192, 193, 194, 38, 195, 196, 197, 37, 198, 199, 39, 200, 201, 39, 202, 203, 204, 205, 206, 207, 39, 208, 209, 210, 211, 40, 212, 213, 38, 214, 39, 215, 40, 38, 41, 42, 42, 216, 217, 218, 219, 39, 220, 221, 222, 223, 224, 225, 41, 226, 227, 43, 228, 229, 230, 44, 231, 45, 232, 45, 233, 234, 43, 235, 236, 237, 44, 238, 46, 239, 240, 241, 242, 46, 243, 244, 245, 246, 247, 248, 249, 250, 251, 252, 253, 254, 255, 47, 48, 256, 257, 49, 49, 48, 258, 259, 260, 47, 261, 262, 263, 264, 265, 266, 267, 268, 50, 269, 270, 271, 272, 273, 51, 50, 274, 275, 276, 277, 278, 279, 280, 281, 282, 283, 51, 51, 284, 52, 53, 285, 286, 287, 288, 289, 290, 291, 292, 53, 52, 293, 54, 294, 295, 53, 296, 297, 298, 53, 299, 54, 54, 300, 301, 54, 302, 303, 304, 305, 54, 306, 307, 54, 308, 309, 310, 311, 54, 312, 313, 314, 315, 316, 317, 54, 318, 319, 320, 321, 322, 323, 56, 324, 325, 326, 327, 328, 329, 330, 331, 332, 333, 334, 335, 56, 336, 337, 338, 57, 339, 340, 56, 57, 341, 342, 57, 343, 344, 345, 346, 347, 348, 349, 350, 351, 352, 59, 353, 354, 355, 356, 57, 357, 60, 61, 358, 359, 360, 361, 362, 363, 62, 59, 60, 364, 365, 366, 367, 368, 369, 61, 62, 370, 63, 371, 372, 64, 373, 63, 65, 374, 375, 66, 376, 377, 378, 379, 380, 66, 381, 382, 383, 384, 385, 67, 64, 386, 387, 388, 65, 68, 67, 389, 65, 390, 65, 69, 68, 391, 70, 70, 71, 71, 65, 392, 393, 394, 395, 396, 72, 397, 398, 72, 399, 400, 69, 73, 401, 402, 72, 403, 74, 74, 404, 72, 75, 73, 76, 405, 72, 75, 406, 72, 407, 74, 408, 409, 410, 77, 411, 412, 413, 414, 415, 76, 416, 417, 418, 419, 77, 420, 78, 421, 78, 79, 422, 423, 79, 424, 425, 78, 426, 78, 427, 428, 429, 430, 431, 432, 433, 434, 78, 435, 436, 80, 81, 80, 437, 438, 439, 440, 80, 441, 442, 443, 81, 444, 445, 446, 447, 82, 448, 449, 450, 451, 452, 453, 82, 83, 454, 455, 84, 456, 457, 458, 459, 460, 461, 462, 83, 84, 463]\n"
     ]
    }
   ],
   "source": [
    "# creating graph among epi-ntils\n",
    "group_epi_ntils = []\n",
    "for index in range(0, len(epi_ntils_centroids)):\n",
    "    group_epi_ntils.append(-1)\n",
    "\n",
    "count = 1\n",
    "for index1 in range(0, len(epi_ntils_centroids)-1):\n",
    "    for index2 in range(index1+1, len(epi_ntils_centroids)):\n",
    "        distance = math.dist(epi_ntils_centroids[index1], epi_ntils_centroids[index2])**(-alpha)\n",
    "        if distance > r:\n",
    "            if group_epi_ntils[index1] == -1 and group_epi_ntils[index2] == -1:\n",
    "                group_epi_ntils[index1] = count\n",
    "                group_epi_ntils[index2] = count\n",
    "                count += 1\n",
    "            elif group_epi_ntils[index1] == -1:\n",
    "                group_epi_ntils[index1] = group_epi_ntils[index2]\n",
    "            elif group_epi_ntils[index2] == -1:\n",
    "                group_epi_ntils[index2] = group_epi_ntils[index1]\n",
    "            else:\n",
    "                if group_epi_ntils[index1] < group_epi_ntils[index2]:\n",
    "                    for index3 in range(0, len(epi_ntils_centroids)):\n",
    "                        if group_epi_ntils[index3] == group_epi_ntils[index2]:\n",
    "                            group_epi_ntils[index3] = group_epi_ntils[index1]\n",
    "                else:\n",
    "                    for index3 in range(0, len(epi_ntils_centroids)):\n",
    "                        if group_epi_ntils[index3] == group_epi_ntils[index1]:\n",
    "                            group_epi_ntils[index3] = group_epi_ntils[index2]\n",
    "for index in range(0, len(epi_ntils_centroids)):\n",
    "    if group_epi_ntils[index] == -1:\n",
    "        group_epi_ntils[index] = count\n",
    "        count += 1\n",
    "      \n",
    "    \n",
    "print(epi_ntils_centroids)\n",
    "print(group_epi_ntils)"
   ]
  },
  {
   "cell_type": "code",
   "execution_count": 41,
   "id": "0313bec5",
   "metadata": {},
   "outputs": [
    {
     "name": "stdout",
     "output_type": "stream",
     "text": [
      "[[51, 316], [606, 550], [939, 651]]\n",
      "[1, 2, 3]\n"
     ]
    }
   ],
   "source": [
    "# creating graph among stroma-tils\n",
    "group_stroma_tils = []\n",
    "for index in range(0, len(stroma_tils_centroids)):\n",
    "    group_stroma_tils.append(-1)\n",
    "\n",
    "count = 1\n",
    "for index1 in range(0, len(stroma_tils_centroids)-1):\n",
    "    for index2 in range(index1+1, len(stroma_tils_centroids)):\n",
    "        distance = math.dist(stroma_tils_centroids[index1], stroma_tils_centroids[index2])**(-alpha)\n",
    "        if distance > r:\n",
    "            if group_stroma_tils[index1] == -1 and group_stroma_tils[index2] == -1:\n",
    "                group_stroma_tils[index1] = count\n",
    "                group_stroma_tils[index2] = count\n",
    "                count += 1\n",
    "            elif group_stroma_tils[index1] == -1:\n",
    "                group_stroma_tils[index1] = group_stroma_tils[index2]\n",
    "            elif group_stroma_tils[index2] == -1:\n",
    "                group_stroma_tils[index2] = group_stroma_tils[index1]\n",
    "            else:\n",
    "                if group_stroma_tils[index1] < group_stroma_tils[index2]:\n",
    "                    for index3 in range(0, len(stroma_tils_centroids)):\n",
    "                        if group_stroma_tils[index3] == group_stroma_tils[index2]:\n",
    "                            group_stroma_tils[index3] = group_stroma_tils[index1]\n",
    "                else:\n",
    "                    for index3 in range(0, len(stroma_tils_centroids)):\n",
    "                        if group_stroma_tils[index3] == group_stroma_tils[index1]:\n",
    "                            group_stroma_tils[index3] = group_stroma_tils[index2]\n",
    "for index in range(0, len(stroma_tils_centroids)):\n",
    "    if group_stroma_tils[index] == -1:\n",
    "        group_stroma_tils[index] = count\n",
    "        count += 1\n",
    "      \n",
    "    \n",
    "print(stroma_tils_centroids)\n",
    "print(group_stroma_tils)"
   ]
  },
  {
   "cell_type": "code",
   "execution_count": 43,
   "id": "f43b1405",
   "metadata": {},
   "outputs": [
    {
     "name": "stdout",
     "output_type": "stream",
     "text": [
      "[-1, -1, -1, -1, -1, -1, -1, -1, -1, -1, -1, -1, -1, -1, -1, -1, -1, -1, -1, -1, -1, -1, -1, -1, -1, -1, 1, 1, -1, -1, -1, -1, -1, -1, 2, -1, 2, -1, -1, -1, -1, -1, -1, -1, -1]\n",
      "[[584, 1], [613, 2], [635, 15], [100, 23], [490, 40], [237, 63], [314, 60], [596, 76], [564, 82], [964, 100], [233, 125], [142, 222], [972, 285], [157, 288], [26, 293], [56, 332], [28, 365], [336, 409], [797, 413], [825, 414], [30, 425], [557, 500], [685, 512], [573, 528], [890, 552], [887, 607], [868, 637], [852, 644], [916, 650], [888, 670], [726, 690], [801, 710], [985, 753], [490, 790], [210, 825], [886, 839], [200, 831], [387, 840], [415, 845], [931, 873], [751, 922], [115, 925], [552, 971], [408, 988], [19, 994]]\n",
      "[3, 4, 5, 6, 7, 8, 9, 10, 11, 12, 13, 14, 15, 16, 17, 18, 19, 20, 21, 22, 23, 24, 25, 26, 27, 28, 1, 1, 29, 30, 31, 32, 33, 34, 2, 35, 2, 36, 37, 38, 39, 40, 41, 42, 43]\n"
     ]
    }
   ],
   "source": [
    "# creating graph among stroma-ntils\n",
    "group_stroma_ntils = []\n",
    "for index in range(0, len(stroma_ntils_centroids)):\n",
    "    group_stroma_ntils.append(-1)\n",
    "\n",
    "count = 1\n",
    "for index1 in range(0, len(stroma_ntils_centroids)-1):\n",
    "    for index2 in range(index1+1, len(stroma_ntils_centroids)):\n",
    "        distance = math.dist(stroma_ntils_centroids[index1], stroma_ntils_centroids[index2])**(-alpha)\n",
    "        if distance > r:\n",
    "            if group_stroma_ntils[index1] == -1 and group_stroma_ntils[index2] == -1:\n",
    "                group_stroma_ntils[index1] = count\n",
    "                group_stroma_ntils[index2] = count\n",
    "                count += 1\n",
    "            elif group_stroma_ntils[index1] == -1:\n",
    "                group_stroma_ntils[index1] = group_stroma_ntils[index2]\n",
    "            elif group_stroma_ntils[index2] == -1:\n",
    "                group_stroma_ntils[index2] = group_stroma_ntils[index1]\n",
    "            else:\n",
    "                if group_stroma_ntils[index1] < group_stroma_ntils[index2]:\n",
    "                    for index3 in range(0, len(stroma_ntils_centroids)):\n",
    "                        if group_stroma_ntils[index3] == group_stroma_ntils[index2]:\n",
    "                            group_stroma_ntils[index3] = group_stroma_ntils[index1]\n",
    "                else:\n",
    "                    for index3 in range(0, len(stroma_ntils_centroids)):\n",
    "                        if group_stroma_ntils[index3] == group_stroma_ntils[index1]:\n",
    "                            group_stroma_ntils[index3] = group_stroma_ntils[index2]\n",
    "for index in range(0, len(stroma_ntils_centroids)):\n",
    "    if group_stroma_ntils[index] == -1:\n",
    "        group_stroma_ntils[index] = count\n",
    "        count += 1\n",
    "      \n",
    "    \n",
    "print(stroma_ntils_centroids)\n",
    "print(group_stroma_ntils)"
   ]
  },
  {
   "cell_type": "code",
   "execution_count": null,
   "id": "3df811a7",
   "metadata": {},
   "outputs": [],
   "source": []
  }
 ],
 "metadata": {
  "kernelspec": {
   "display_name": "Python 3",
   "language": "python",
   "name": "python3"
  },
  "language_info": {
   "codemirror_mode": {
    "name": "ipython",
    "version": 3
   },
   "file_extension": ".py",
   "mimetype": "text/x-python",
   "name": "python",
   "nbconvert_exporter": "python",
   "pygments_lexer": "ipython3",
   "version": "3.8.8"
  }
 },
 "nbformat": 4,
 "nbformat_minor": 5
}
