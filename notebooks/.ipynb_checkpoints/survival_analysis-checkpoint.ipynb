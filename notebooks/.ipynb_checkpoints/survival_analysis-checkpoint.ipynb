{
 "cells": [
  {
   "cell_type": "code",
   "execution_count": 1,
   "id": "eacc948b",
   "metadata": {},
   "outputs": [],
   "source": [
    "import scipy, importlib, pprint, matplotlib.pyplot as plt, warnings\n",
    "import glob\n",
    "import csv\n",
    "import numpy as np\n",
    "import pandas as pd\n",
    "from sksurv.nonparametric import kaplan_meier_estimator\n",
    "from sksurv.linear_model import CoxPHSurvivalAnalysis\n",
    "from sksurv.linear_model import CoxnetSurvivalAnalysis\n",
    "from sksurv.preprocessing import OneHotEncoder\n",
    "from sksurv.compare import compare_survival\n",
    "%matplotlib inline\n",
    "import matplotlib.pyplot as plt"
   ]
  },
  {
   "cell_type": "code",
   "execution_count": 2,
   "id": "0f6a3689",
   "metadata": {},
   "outputs": [],
   "source": [
    "train_data = pd.read_csv(\"../data/train_features.csv\", index_col=0)\n",
    "train_data_normalized = pd.read_csv(\"../data/train_features.csv\", index_col=0)\n",
    "train_labels = pd.read_csv(\"../data/train_labels.csv\", index_col=0)"
   ]
  },
  {
   "cell_type": "code",
   "execution_count": 3,
   "id": "dc16518c",
   "metadata": {},
   "outputs": [
    {
     "name": "stderr",
     "output_type": "stream",
     "text": [
      "<ipython-input-3-bfbe53ce95ef>:2: DeprecationWarning: `np.bool` is a deprecated alias for the builtin `bool`. To silence this warning, use `bool` by itself. Doing this will not modify any behavior and is safe. If you specifically wanted the numpy scalar type, use `np.bool_` here.\n",
      "Deprecated in NumPy 1.20; for more details and guidance: https://numpy.org/devdocs/release/1.20.0-notes.html#deprecations\n",
      "  upper = corr.where(np.triu(np.ones(corr.shape), k=1).astype(np.bool))\n"
     ]
    }
   ],
   "source": [
    "corr = train_data.corr().abs()\n",
    "upper = corr.where(np.triu(np.ones(corr.shape), k=1).astype(np.bool))\n",
    "to_drop = [column for column in upper.columns if any(upper[column] > 0.99)]\n",
    "train_data = train_data.drop(train_data[to_drop], axis=1)\n",
    "train_data_normalized = train_data.copy()"
   ]
  },
  {
   "cell_type": "code",
   "execution_count": 4,
   "id": "f34649f4",
   "metadata": {},
   "outputs": [],
   "source": [
    "for col in train_data.columns:\n",
    "    train_data_normalized[col] = (train_data_normalized[col] - train_data[col].mean()) / train_data[col].std()"
   ]
  },
  {
   "cell_type": "code",
   "execution_count": 5,
   "id": "bfeb933e",
   "metadata": {},
   "outputs": [
    {
     "data": {
      "text/html": [
       "<div>\n",
       "<style scoped>\n",
       "    .dataframe tbody tr th:only-of-type {\n",
       "        vertical-align: middle;\n",
       "    }\n",
       "\n",
       "    .dataframe tbody tr th {\n",
       "        vertical-align: top;\n",
       "    }\n",
       "\n",
       "    .dataframe thead th {\n",
       "        text-align: right;\n",
       "    }\n",
       "</style>\n",
       "<table border=\"1\" class=\"dataframe\">\n",
       "  <thead>\n",
       "    <tr style=\"text-align: right;\">\n",
       "      <th></th>\n",
       "      <th>F_1</th>\n",
       "      <th>F_2</th>\n",
       "      <th>F_3</th>\n",
       "      <th>F_4</th>\n",
       "      <th>F_5</th>\n",
       "      <th>F_6</th>\n",
       "      <th>F_7</th>\n",
       "      <th>F_8</th>\n",
       "      <th>F_9</th>\n",
       "      <th>F_10</th>\n",
       "      <th>...</th>\n",
       "      <th>F_875</th>\n",
       "      <th>F_876</th>\n",
       "      <th>F_882</th>\n",
       "      <th>F_885</th>\n",
       "      <th>F_886</th>\n",
       "      <th>F_887</th>\n",
       "      <th>F_888</th>\n",
       "      <th>F_890</th>\n",
       "      <th>F_891</th>\n",
       "      <th>F_892</th>\n",
       "    </tr>\n",
       "  </thead>\n",
       "  <tbody>\n",
       "    <tr>\n",
       "      <th>1</th>\n",
       "      <td>-1.051854</td>\n",
       "      <td>0.034016</td>\n",
       "      <td>-0.132723</td>\n",
       "      <td>-0.579332</td>\n",
       "      <td>-0.553858</td>\n",
       "      <td>0.070763</td>\n",
       "      <td>0.186382</td>\n",
       "      <td>0.648210</td>\n",
       "      <td>2.077581</td>\n",
       "      <td>0.395179</td>\n",
       "      <td>...</td>\n",
       "      <td>-0.674495</td>\n",
       "      <td>-0.913198</td>\n",
       "      <td>1.251121</td>\n",
       "      <td>1.008242</td>\n",
       "      <td>0.605799</td>\n",
       "      <td>0.197301</td>\n",
       "      <td>0.487198</td>\n",
       "      <td>-0.764922</td>\n",
       "      <td>-0.936034</td>\n",
       "      <td>-1.340871</td>\n",
       "    </tr>\n",
       "    <tr>\n",
       "      <th>2</th>\n",
       "      <td>-0.516867</td>\n",
       "      <td>0.888248</td>\n",
       "      <td>0.141130</td>\n",
       "      <td>0.765340</td>\n",
       "      <td>0.082607</td>\n",
       "      <td>0.930139</td>\n",
       "      <td>-0.366205</td>\n",
       "      <td>1.027690</td>\n",
       "      <td>-0.098663</td>\n",
       "      <td>-0.166664</td>\n",
       "      <td>...</td>\n",
       "      <td>0.244129</td>\n",
       "      <td>0.280195</td>\n",
       "      <td>0.109714</td>\n",
       "      <td>-0.182054</td>\n",
       "      <td>-0.252963</td>\n",
       "      <td>-0.004627</td>\n",
       "      <td>0.104280</td>\n",
       "      <td>0.073630</td>\n",
       "      <td>0.306037</td>\n",
       "      <td>0.411565</td>\n",
       "    </tr>\n",
       "    <tr>\n",
       "      <th>3</th>\n",
       "      <td>-0.491124</td>\n",
       "      <td>0.007999</td>\n",
       "      <td>-0.526417</td>\n",
       "      <td>0.084316</td>\n",
       "      <td>-0.604859</td>\n",
       "      <td>-0.315222</td>\n",
       "      <td>0.405863</td>\n",
       "      <td>-0.207325</td>\n",
       "      <td>-0.333309</td>\n",
       "      <td>0.407014</td>\n",
       "      <td>...</td>\n",
       "      <td>0.286045</td>\n",
       "      <td>0.456969</td>\n",
       "      <td>0.083338</td>\n",
       "      <td>0.184405</td>\n",
       "      <td>0.371817</td>\n",
       "      <td>-0.323509</td>\n",
       "      <td>0.658386</td>\n",
       "      <td>-0.156077</td>\n",
       "      <td>0.184279</td>\n",
       "      <td>0.312850</td>\n",
       "    </tr>\n",
       "    <tr>\n",
       "      <th>4</th>\n",
       "      <td>-0.663137</td>\n",
       "      <td>2.137380</td>\n",
       "      <td>3.160919</td>\n",
       "      <td>0.267403</td>\n",
       "      <td>0.403829</td>\n",
       "      <td>3.798426</td>\n",
       "      <td>-0.844616</td>\n",
       "      <td>-1.366797</td>\n",
       "      <td>-2.580544</td>\n",
       "      <td>-1.212387</td>\n",
       "      <td>...</td>\n",
       "      <td>0.062478</td>\n",
       "      <td>0.086220</td>\n",
       "      <td>-0.404894</td>\n",
       "      <td>-0.651089</td>\n",
       "      <td>-0.561482</td>\n",
       "      <td>-0.642117</td>\n",
       "      <td>-0.526388</td>\n",
       "      <td>-0.925393</td>\n",
       "      <td>0.022331</td>\n",
       "      <td>0.236080</td>\n",
       "    </tr>\n",
       "    <tr>\n",
       "      <th>5</th>\n",
       "      <td>0.207772</td>\n",
       "      <td>-1.937311</td>\n",
       "      <td>-0.844536</td>\n",
       "      <td>-1.650880</td>\n",
       "      <td>-0.662993</td>\n",
       "      <td>-1.286447</td>\n",
       "      <td>1.304766</td>\n",
       "      <td>2.115027</td>\n",
       "      <td>0.961890</td>\n",
       "      <td>0.657181</td>\n",
       "      <td>...</td>\n",
       "      <td>-0.925076</td>\n",
       "      <td>-0.965143</td>\n",
       "      <td>2.821269</td>\n",
       "      <td>1.767614</td>\n",
       "      <td>1.304289</td>\n",
       "      <td>1.902720</td>\n",
       "      <td>0.528480</td>\n",
       "      <td>2.598711</td>\n",
       "      <td>-1.678994</td>\n",
       "      <td>-1.845428</td>\n",
       "    </tr>\n",
       "  </tbody>\n",
       "</table>\n",
       "<p>5 rows × 459 columns</p>\n",
       "</div>"
      ],
      "text/plain": [
       "        F_1       F_2       F_3       F_4       F_5       F_6       F_7  \\\n",
       "1 -1.051854  0.034016 -0.132723 -0.579332 -0.553858  0.070763  0.186382   \n",
       "2 -0.516867  0.888248  0.141130  0.765340  0.082607  0.930139 -0.366205   \n",
       "3 -0.491124  0.007999 -0.526417  0.084316 -0.604859 -0.315222  0.405863   \n",
       "4 -0.663137  2.137380  3.160919  0.267403  0.403829  3.798426 -0.844616   \n",
       "5  0.207772 -1.937311 -0.844536 -1.650880 -0.662993 -1.286447  1.304766   \n",
       "\n",
       "        F_8       F_9      F_10  ...     F_875     F_876     F_882     F_885  \\\n",
       "1  0.648210  2.077581  0.395179  ... -0.674495 -0.913198  1.251121  1.008242   \n",
       "2  1.027690 -0.098663 -0.166664  ...  0.244129  0.280195  0.109714 -0.182054   \n",
       "3 -0.207325 -0.333309  0.407014  ...  0.286045  0.456969  0.083338  0.184405   \n",
       "4 -1.366797 -2.580544 -1.212387  ...  0.062478  0.086220 -0.404894 -0.651089   \n",
       "5  2.115027  0.961890  0.657181  ... -0.925076 -0.965143  2.821269  1.767614   \n",
       "\n",
       "      F_886     F_887     F_888     F_890     F_891     F_892  \n",
       "1  0.605799  0.197301  0.487198 -0.764922 -0.936034 -1.340871  \n",
       "2 -0.252963 -0.004627  0.104280  0.073630  0.306037  0.411565  \n",
       "3  0.371817 -0.323509  0.658386 -0.156077  0.184279  0.312850  \n",
       "4 -0.561482 -0.642117 -0.526388 -0.925393  0.022331  0.236080  \n",
       "5  1.304289  1.902720  0.528480  2.598711 -1.678994 -1.845428  \n",
       "\n",
       "[5 rows x 459 columns]"
      ]
     },
     "execution_count": 5,
     "metadata": {},
     "output_type": "execute_result"
    }
   ],
   "source": [
    "train_data_normalized.head()"
   ]
  },
  {
   "cell_type": "code",
   "execution_count": 6,
   "id": "07c07dd2",
   "metadata": {},
   "outputs": [
    {
     "data": {
      "text/html": [
       "<div>\n",
       "<style scoped>\n",
       "    .dataframe tbody tr th:only-of-type {\n",
       "        vertical-align: middle;\n",
       "    }\n",
       "\n",
       "    .dataframe tbody tr th {\n",
       "        vertical-align: top;\n",
       "    }\n",
       "\n",
       "    .dataframe thead th {\n",
       "        text-align: right;\n",
       "    }\n",
       "</style>\n",
       "<table border=\"1\" class=\"dataframe\">\n",
       "  <thead>\n",
       "    <tr style=\"text-align: right;\">\n",
       "      <th></th>\n",
       "      <th>Status</th>\n",
       "      <th>Survival (in days)</th>\n",
       "    </tr>\n",
       "  </thead>\n",
       "  <tbody>\n",
       "    <tr>\n",
       "      <th>1</th>\n",
       "      <td>False</td>\n",
       "      <td>763.0</td>\n",
       "    </tr>\n",
       "    <tr>\n",
       "      <th>2</th>\n",
       "      <td>True</td>\n",
       "      <td>1018.0</td>\n",
       "    </tr>\n",
       "    <tr>\n",
       "      <th>3</th>\n",
       "      <td>True</td>\n",
       "      <td>1091.0</td>\n",
       "    </tr>\n",
       "    <tr>\n",
       "      <th>4</th>\n",
       "      <td>True</td>\n",
       "      <td>1562.0</td>\n",
       "    </tr>\n",
       "    <tr>\n",
       "      <th>5</th>\n",
       "      <td>False</td>\n",
       "      <td>194.0</td>\n",
       "    </tr>\n",
       "  </tbody>\n",
       "</table>\n",
       "</div>"
      ],
      "text/plain": [
       "   Status  Survival (in days)\n",
       "1   False               763.0\n",
       "2    True              1018.0\n",
       "3    True              1091.0\n",
       "4    True              1562.0\n",
       "5   False               194.0"
      ]
     },
     "execution_count": 6,
     "metadata": {},
     "output_type": "execute_result"
    }
   ],
   "source": [
    "columns_titles = [\"Status\", \"Survival (in days)\"]\n",
    "train_labels = train_labels.reindex(columns=columns_titles)\n",
    "train_labels[\"Status\"] = train_labels[\"Status\"].astype('bool')\n",
    "train_labels.head()"
   ]
  },
  {
   "cell_type": "code",
   "execution_count": 7,
   "id": "3933355e",
   "metadata": {},
   "outputs": [],
   "source": [
    "val_data = pd.read_csv(\"../data/val_features.csv\", index_col=0)\n",
    "val_data_normalized = pd.read_csv(\"../data/val_features.csv\", index_col=0)\n",
    "val_labels = pd.read_csv(\"../data/val_labels.csv\", index_col=0)"
   ]
  },
  {
   "cell_type": "code",
   "execution_count": 8,
   "id": "682fd7ca",
   "metadata": {},
   "outputs": [],
   "source": [
    "val_data = val_data[train_data.columns]\n",
    "val_data_normalized = val_data_normalized[train_data.columns]"
   ]
  },
  {
   "cell_type": "code",
   "execution_count": 9,
   "id": "8b7c2f18",
   "metadata": {},
   "outputs": [],
   "source": [
    "for col in val_data.columns:\n",
    "    val_data_normalized[col] = (val_data_normalized[col] - train_data[col].mean()) / train_data[col].std()"
   ]
  },
  {
   "cell_type": "code",
   "execution_count": 10,
   "id": "abec0c78",
   "metadata": {},
   "outputs": [
    {
     "data": {
      "text/html": [
       "<div>\n",
       "<style scoped>\n",
       "    .dataframe tbody tr th:only-of-type {\n",
       "        vertical-align: middle;\n",
       "    }\n",
       "\n",
       "    .dataframe tbody tr th {\n",
       "        vertical-align: top;\n",
       "    }\n",
       "\n",
       "    .dataframe thead th {\n",
       "        text-align: right;\n",
       "    }\n",
       "</style>\n",
       "<table border=\"1\" class=\"dataframe\">\n",
       "  <thead>\n",
       "    <tr style=\"text-align: right;\">\n",
       "      <th></th>\n",
       "      <th>F_1</th>\n",
       "      <th>F_2</th>\n",
       "      <th>F_3</th>\n",
       "      <th>F_4</th>\n",
       "      <th>F_5</th>\n",
       "      <th>F_6</th>\n",
       "      <th>F_7</th>\n",
       "      <th>F_8</th>\n",
       "      <th>F_9</th>\n",
       "      <th>F_10</th>\n",
       "      <th>...</th>\n",
       "      <th>F_875</th>\n",
       "      <th>F_876</th>\n",
       "      <th>F_882</th>\n",
       "      <th>F_885</th>\n",
       "      <th>F_886</th>\n",
       "      <th>F_887</th>\n",
       "      <th>F_888</th>\n",
       "      <th>F_890</th>\n",
       "      <th>F_891</th>\n",
       "      <th>F_892</th>\n",
       "    </tr>\n",
       "  </thead>\n",
       "  <tbody>\n",
       "    <tr>\n",
       "      <th>1</th>\n",
       "      <td>-0.891447</td>\n",
       "      <td>0.694337</td>\n",
       "      <td>-0.254452</td>\n",
       "      <td>0.382998</td>\n",
       "      <td>-0.498909</td>\n",
       "      <td>0.349961</td>\n",
       "      <td>2.140984</td>\n",
       "      <td>1.094618</td>\n",
       "      <td>1.722206</td>\n",
       "      <td>1.039619</td>\n",
       "      <td>...</td>\n",
       "      <td>0.537443</td>\n",
       "      <td>0.779312</td>\n",
       "      <td>-0.133685</td>\n",
       "      <td>-0.286793</td>\n",
       "      <td>-0.497930</td>\n",
       "      <td>0.202069</td>\n",
       "      <td>-0.121995</td>\n",
       "      <td>0.004828</td>\n",
       "      <td>0.287769</td>\n",
       "      <td>0.372023</td>\n",
       "    </tr>\n",
       "    <tr>\n",
       "      <th>2</th>\n",
       "      <td>-0.264447</td>\n",
       "      <td>-0.165786</td>\n",
       "      <td>-0.638614</td>\n",
       "      <td>-0.414547</td>\n",
       "      <td>-0.633326</td>\n",
       "      <td>-0.510307</td>\n",
       "      <td>0.551040</td>\n",
       "      <td>0.741997</td>\n",
       "      <td>0.634423</td>\n",
       "      <td>0.480780</td>\n",
       "      <td>...</td>\n",
       "      <td>-0.578607</td>\n",
       "      <td>-0.409096</td>\n",
       "      <td>0.185052</td>\n",
       "      <td>0.132772</td>\n",
       "      <td>0.006067</td>\n",
       "      <td>0.546797</td>\n",
       "      <td>-0.044799</td>\n",
       "      <td>0.567203</td>\n",
       "      <td>-0.571558</td>\n",
       "      <td>-0.567203</td>\n",
       "    </tr>\n",
       "    <tr>\n",
       "      <th>3</th>\n",
       "      <td>-0.380631</td>\n",
       "      <td>-0.619041</td>\n",
       "      <td>-0.573086</td>\n",
       "      <td>-0.331372</td>\n",
       "      <td>-0.473044</td>\n",
       "      <td>-0.593614</td>\n",
       "      <td>2.198078</td>\n",
       "      <td>1.465156</td>\n",
       "      <td>1.290065</td>\n",
       "      <td>0.741265</td>\n",
       "      <td>...</td>\n",
       "      <td>-0.076026</td>\n",
       "      <td>0.304333</td>\n",
       "      <td>-0.380462</td>\n",
       "      <td>-0.054707</td>\n",
       "      <td>0.114557</td>\n",
       "      <td>0.220747</td>\n",
       "      <td>0.212386</td>\n",
       "      <td>0.107895</td>\n",
       "      <td>0.064899</td>\n",
       "      <td>0.432763</td>\n",
       "    </tr>\n",
       "    <tr>\n",
       "      <th>4</th>\n",
       "      <td>-0.546086</td>\n",
       "      <td>-1.671181</td>\n",
       "      <td>-0.986577</td>\n",
       "      <td>-0.954884</td>\n",
       "      <td>-1.042919</td>\n",
       "      <td>-1.326848</td>\n",
       "      <td>2.108189</td>\n",
       "      <td>1.166813</td>\n",
       "      <td>2.557338</td>\n",
       "      <td>1.739571</td>\n",
       "      <td>...</td>\n",
       "      <td>-0.690453</td>\n",
       "      <td>-0.404036</td>\n",
       "      <td>0.499174</td>\n",
       "      <td>0.822330</td>\n",
       "      <td>0.807876</td>\n",
       "      <td>0.578391</td>\n",
       "      <td>0.922294</td>\n",
       "      <td>0.982247</td>\n",
       "      <td>-0.563103</td>\n",
       "      <td>-0.343383</td>\n",
       "    </tr>\n",
       "    <tr>\n",
       "      <th>5</th>\n",
       "      <td>0.315671</td>\n",
       "      <td>-1.191188</td>\n",
       "      <td>0.240047</td>\n",
       "      <td>-0.578790</td>\n",
       "      <td>0.288621</td>\n",
       "      <td>-0.520297</td>\n",
       "      <td>-0.114949</td>\n",
       "      <td>-0.549275</td>\n",
       "      <td>0.182652</td>\n",
       "      <td>-0.064442</td>\n",
       "      <td>...</td>\n",
       "      <td>-0.091586</td>\n",
       "      <td>0.302419</td>\n",
       "      <td>-0.577258</td>\n",
       "      <td>0.012998</td>\n",
       "      <td>0.134395</td>\n",
       "      <td>-0.271888</td>\n",
       "      <td>0.291982</td>\n",
       "      <td>0.375777</td>\n",
       "      <td>-0.179317</td>\n",
       "      <td>0.138217</td>\n",
       "    </tr>\n",
       "  </tbody>\n",
       "</table>\n",
       "<p>5 rows × 459 columns</p>\n",
       "</div>"
      ],
      "text/plain": [
       "        F_1       F_2       F_3       F_4       F_5       F_6       F_7  \\\n",
       "1 -0.891447  0.694337 -0.254452  0.382998 -0.498909  0.349961  2.140984   \n",
       "2 -0.264447 -0.165786 -0.638614 -0.414547 -0.633326 -0.510307  0.551040   \n",
       "3 -0.380631 -0.619041 -0.573086 -0.331372 -0.473044 -0.593614  2.198078   \n",
       "4 -0.546086 -1.671181 -0.986577 -0.954884 -1.042919 -1.326848  2.108189   \n",
       "5  0.315671 -1.191188  0.240047 -0.578790  0.288621 -0.520297 -0.114949   \n",
       "\n",
       "        F_8       F_9      F_10  ...     F_875     F_876     F_882     F_885  \\\n",
       "1  1.094618  1.722206  1.039619  ...  0.537443  0.779312 -0.133685 -0.286793   \n",
       "2  0.741997  0.634423  0.480780  ... -0.578607 -0.409096  0.185052  0.132772   \n",
       "3  1.465156  1.290065  0.741265  ... -0.076026  0.304333 -0.380462 -0.054707   \n",
       "4  1.166813  2.557338  1.739571  ... -0.690453 -0.404036  0.499174  0.822330   \n",
       "5 -0.549275  0.182652 -0.064442  ... -0.091586  0.302419 -0.577258  0.012998   \n",
       "\n",
       "      F_886     F_887     F_888     F_890     F_891     F_892  \n",
       "1 -0.497930  0.202069 -0.121995  0.004828  0.287769  0.372023  \n",
       "2  0.006067  0.546797 -0.044799  0.567203 -0.571558 -0.567203  \n",
       "3  0.114557  0.220747  0.212386  0.107895  0.064899  0.432763  \n",
       "4  0.807876  0.578391  0.922294  0.982247 -0.563103 -0.343383  \n",
       "5  0.134395 -0.271888  0.291982  0.375777 -0.179317  0.138217  \n",
       "\n",
       "[5 rows x 459 columns]"
      ]
     },
     "execution_count": 10,
     "metadata": {},
     "output_type": "execute_result"
    }
   ],
   "source": [
    "val_data_normalized.head()"
   ]
  },
  {
   "cell_type": "code",
   "execution_count": 11,
   "id": "cbcb78cd",
   "metadata": {},
   "outputs": [
    {
     "data": {
      "text/html": [
       "<div>\n",
       "<style scoped>\n",
       "    .dataframe tbody tr th:only-of-type {\n",
       "        vertical-align: middle;\n",
       "    }\n",
       "\n",
       "    .dataframe tbody tr th {\n",
       "        vertical-align: top;\n",
       "    }\n",
       "\n",
       "    .dataframe thead th {\n",
       "        text-align: right;\n",
       "    }\n",
       "</style>\n",
       "<table border=\"1\" class=\"dataframe\">\n",
       "  <thead>\n",
       "    <tr style=\"text-align: right;\">\n",
       "      <th></th>\n",
       "      <th>Status</th>\n",
       "      <th>Survival (in days)</th>\n",
       "    </tr>\n",
       "  </thead>\n",
       "  <tbody>\n",
       "    <tr>\n",
       "      <th>1</th>\n",
       "      <td>True</td>\n",
       "      <td>2587.0</td>\n",
       "    </tr>\n",
       "    <tr>\n",
       "      <th>2</th>\n",
       "      <td>False</td>\n",
       "      <td>143.0</td>\n",
       "    </tr>\n",
       "    <tr>\n",
       "      <th>3</th>\n",
       "      <td>False</td>\n",
       "      <td>16.0</td>\n",
       "    </tr>\n",
       "    <tr>\n",
       "      <th>4</th>\n",
       "      <td>True</td>\n",
       "      <td>820.0</td>\n",
       "    </tr>\n",
       "    <tr>\n",
       "      <th>5</th>\n",
       "      <td>False</td>\n",
       "      <td>1503.0</td>\n",
       "    </tr>\n",
       "  </tbody>\n",
       "</table>\n",
       "</div>"
      ],
      "text/plain": [
       "   Status  Survival (in days)\n",
       "1    True              2587.0\n",
       "2   False               143.0\n",
       "3   False                16.0\n",
       "4    True               820.0\n",
       "5   False              1503.0"
      ]
     },
     "execution_count": 11,
     "metadata": {},
     "output_type": "execute_result"
    }
   ],
   "source": [
    "columns_titles = [\"Status\", \"Survival (in days)\"]\n",
    "val_labels = val_labels.reindex(columns=columns_titles)\n",
    "val_labels[\"Status\"] = val_labels[\"Status\"].astype('bool')\n",
    "val_labels.head()"
   ]
  },
  {
   "cell_type": "code",
   "execution_count": null,
   "id": "184587ed",
   "metadata": {},
   "outputs": [],
   "source": []
  },
  {
   "cell_type": "code",
   "execution_count": 12,
   "id": "ea61fc2b",
   "metadata": {},
   "outputs": [
    {
     "name": "stdout",
     "output_type": "stream",
     "text": [
      "[(False,  763.) ( True, 1018.) ( True, 1091.) ( True, 1562.)\n",
      " (False,  194.) (False,  130.) ( True,  565.) ( True,  394.)\n",
      " (False, 1278.) ( True, 1891.) (False, 2616.) ( True,  304.)\n",
      " (False,  761.) (False, 3953.) ( True, 1799.) ( True,  880.)\n",
      " ( True,  518.) ( True, 1162.) ( True,  840.) ( True,    9.)\n",
      " ( True,  760.) ( True, 1249.) ( True, 1446.) ( True,  883.)\n",
      " ( True,  455.) (False,  116.) ( True,  976.) ( True, 1977.)\n",
      " ( True, 1511.) ( True,  759.) (False, 1233.) ( True, 1064.)\n",
      " ( True, 1035.) ( True,  730.) ( True, 1155.) ( True,  976.)\n",
      " (False, 3525.) (False,  816.) ( True,   84.) ( True, 1033.)\n",
      " ( True,  624.) ( True,  608.) ( True, 1278.) ( True,  395.)\n",
      " (False,  468.) (False,  886.) (False,  420.) ( True,  575.)\n",
      " ( True,   91.) ( True,   90.) ( True, 1369.)]\n"
     ]
    }
   ],
   "source": [
    "y_train = []\n",
    "for index, row in train_labels.iterrows():\n",
    "    y_train.append((row[\"Status\"], row[\"Survival (in days)\"]))\n",
    "dt = dtype=[('Status', '?'), ('Survival_in_days', '<f8')]\n",
    "y_train = np.array([tuple(row) for row in y_train], dtype=dt)\n",
    "print(y_train)"
   ]
  },
  {
   "cell_type": "code",
   "execution_count": 13,
   "id": "6046e124",
   "metadata": {},
   "outputs": [
    {
     "name": "stdout",
     "output_type": "stream",
     "text": [
      "[( True, 2587.) (False,  143.) (False,   16.) ( True,  820.)\n",
      " (False, 1503.) (False, 2788.) (False, 2661.) (False,  268.)\n",
      " ( True,   31.) (False,  361.) ( True,   92.) ( True, 1516.)\n",
      " (False,   84.) ( True,  365.) ( True, 1157.) (False,  137.)\n",
      " ( True,  457.) ( True, 1583.) ( True, 2342.) ( True, 1004.)\n",
      " ( True, 2009.) ( True,   31.) ( True,  821.) ( True, 1279.)\n",
      " ( True,   61.) ( True,  943.) (False,  135.) ( True, 1492.)\n",
      " ( True,  627.) ( True, 1013.) ( True,  731.) ( True,  396.)\n",
      " ( True,  346.) ( True,  592.) ( True,   45.) (False,  722.)\n",
      " (False, 1240.) ( True, 2089.) ( True,  317.) (False, 1207.)\n",
      " (False,   98.) ( True,   53.) (False, 1658.) (False,  576.)\n",
      " (False,  679.) ( True,    9.) ( True,  949.) ( True, 1447.)\n",
      " ( True, 1583.) ( True, 1189.) (False,  882.)]\n"
     ]
    }
   ],
   "source": [
    "y_val = []\n",
    "for index, row in val_labels.iterrows():\n",
    "    y_val.append((row[\"Status\"], row[\"Survival (in days)\"]))\n",
    "dt = dtype=[('Status', '?'), ('Survival_in_days', '<f8')]\n",
    "y_val = np.array([tuple(row) for row in y_val], dtype=dt)\n",
    "print(y_val)"
   ]
  },
  {
   "cell_type": "code",
   "execution_count": null,
   "id": "19f1f00a",
   "metadata": {},
   "outputs": [],
   "source": []
  },
  {
   "cell_type": "code",
   "execution_count": 14,
   "id": "734112d1",
   "metadata": {},
   "outputs": [
    {
     "name": "stderr",
     "output_type": "stream",
     "text": [
      "/Users/arpitdec5/opt/anaconda3/lib/python3.8/site-packages/sksurv/linear_model/coxph.py:80: RuntimeWarning: overflow encountered in exp\n",
      "  numpy.exp(- self.cum_baseline_hazard_.y))\n"
     ]
    },
    {
     "data": {
      "text/plain": [
       "CoxnetSurvivalAnalysis(fit_baseline_model=True, l1_ratio=0.95)"
      ]
     },
     "execution_count": 14,
     "metadata": {},
     "output_type": "execute_result"
    }
   ],
   "source": [
    "estimator = CoxnetSurvivalAnalysis(l1_ratio=0.95, fit_baseline_model=True)\n",
    "estimator.fit(train_data_normalized, y_train)"
   ]
  },
  {
   "cell_type": "code",
   "execution_count": null,
   "id": "740939d7",
   "metadata": {},
   "outputs": [],
   "source": []
  },
  {
   "cell_type": "code",
   "execution_count": 15,
   "id": "db1d7ecb",
   "metadata": {},
   "outputs": [
    {
     "name": "stdout",
     "output_type": "stream",
     "text": [
      "51\n",
      "51\n"
     ]
    }
   ],
   "source": [
    "pred_surv_train = estimator.predict(train_data_normalized)\n",
    "pred_surv_val = estimator.predict(val_data_normalized)\n",
    "print(len(pred_surv_train))\n",
    "print(len(pred_surv_val))"
   ]
  },
  {
   "cell_type": "code",
   "execution_count": 16,
   "id": "dc321160",
   "metadata": {},
   "outputs": [
    {
     "name": "stdout",
     "output_type": "stream",
     "text": [
      "37\n",
      "14\n",
      "33\n",
      "18\n"
     ]
    }
   ],
   "source": [
    "x_train_survival = []\n",
    "x_train_survival_censored = []\n",
    "x_val_survival = []\n",
    "x_val_survival_censored = []\n",
    "y_train_survival = []\n",
    "y_val_survival = []\n",
    "y_train_survival_censored = []\n",
    "y_val_survival_censored = []\n",
    "for index in range(0, len(y_train)):\n",
    "    if y_train[index][0] == 1:\n",
    "        x_train_survival.append(pred_surv_train[index])\n",
    "        y_train_survival.append(y_train[index][1])\n",
    "    else:\n",
    "        x_train_survival_censored.append(pred_surv_train[index])\n",
    "        y_train_survival_censored.append(y_train[index][1])\n",
    "for index in range(0, len(y_val)):\n",
    "    if y_val[index][0] == 1:\n",
    "        x_val_survival.append(pred_surv_val[index])\n",
    "        y_val_survival.append(y_val[index][1])\n",
    "    else:\n",
    "        x_val_survival_censored.append(pred_surv_val[index])\n",
    "        y_val_survival_censored.append(y_val[index][1])\n",
    "print(len(y_train_survival))\n",
    "print(len(y_train_survival_censored))\n",
    "print(len(y_val_survival))\n",
    "print(len(y_val_survival_censored))"
   ]
  },
  {
   "cell_type": "code",
   "execution_count": 17,
   "id": "7d75e3ab",
   "metadata": {},
   "outputs": [
    {
     "name": "stdout",
     "output_type": "stream",
     "text": [
      "3.7310209702247206\n"
     ]
    }
   ],
   "source": [
    "median_risk_score = np.median(x_train_survival)\n",
    "print(median_risk_score)"
   ]
  },
  {
   "cell_type": "code",
   "execution_count": 18,
   "id": "a27d4195",
   "metadata": {},
   "outputs": [
    {
     "data": {
      "image/png": "[encoded data removed]",
      "text/plain": [
       "<Figure size 432x288 with 1 Axes>"
      ]
     },
     "metadata": {
      "needs_background": "light"
     },
     "output_type": "display_data"
    }
   ],
   "source": [
    "fig, ax = plt.subplots()\n",
    "\n",
    "ax.scatter(y_train_survival, x_train_survival, color='b', label=\"Event\")\n",
    "ax.scatter(y_train_survival_censored, x_train_survival_censored, color='r', label=\"Censored\")\n",
    "ax.axhline(y=median_risk_score, color=[0,0,0], linestyle='--', label=\"Cut-off Risk Score\")\n",
    "ax.legend()\n",
    "plt.title(\"Risk Score Plot (Training)\")\n",
    "plt.ylabel(\"Risk Score\")\n",
    "plt.xlabel(\"Survival (in days)\")\n",
    "plt.show()"
   ]
  },
  {
   "cell_type": "code",
   "execution_count": 19,
   "id": "91fec67a",
   "metadata": {},
   "outputs": [
    {
     "data": {
      "image/png": "[encoded data removed]",
      "text/plain": [
       "<Figure size 432x288 with 1 Axes>"
      ]
     },
     "metadata": {
      "needs_background": "light"
     },
     "output_type": "display_data"
    }
   ],
   "source": [
    "fig, ax = plt.subplots()\n",
    "\n",
    "ax.scatter(y_val_survival, x_val_survival, color='b', label=\"Event\")\n",
    "ax.scatter(y_val_survival_censored, x_val_survival_censored, color='r', label=\"Censored\")\n",
    "ax.axhline(y=median_risk_score, color=[0,0,0], linestyle='--', label=\"Cut-off Risk Score\")\n",
    "ax.legend()\n",
    "plt.title(\"Risk Score Plot (Validation)\")\n",
    "plt.ylabel(\"Risk Score\")\n",
    "plt.xlabel(\"Survival (in days)\")\n",
    "plt.show()"
   ]
  },
  {
   "cell_type": "code",
   "execution_count": null,
   "id": "e532aec3",
   "metadata": {},
   "outputs": [],
   "source": []
  },
  {
   "cell_type": "code",
   "execution_count": 20,
   "id": "2d4ab923",
   "metadata": {},
   "outputs": [
    {
     "data": {
      "text/plain": [
       "1.0"
      ]
     },
     "execution_count": 20,
     "metadata": {},
     "output_type": "execute_result"
    }
   ],
   "source": [
    "estimator.score(train_data_normalized, y_train)"
   ]
  },
  {
   "cell_type": "code",
   "execution_count": 21,
   "id": "899af65b",
   "metadata": {},
   "outputs": [
    {
     "data": {
      "text/plain": [
       "0.6716604244694132"
      ]
     },
     "execution_count": 21,
     "metadata": {},
     "output_type": "execute_result"
    }
   ],
   "source": [
    "estimator.score(val_data_normalized, y_val)"
   ]
  },
  {
   "cell_type": "code",
   "execution_count": null,
   "id": "d30dcec6",
   "metadata": {},
   "outputs": [],
   "source": []
  },
  {
   "cell_type": "code",
   "execution_count": 22,
   "id": "1dccbb67",
   "metadata": {},
   "outputs": [
    {
     "name": "stdout",
     "output_type": "stream",
     "text": [
      "29\n",
      "29\n",
      "22\n",
      "22\n"
     ]
    }
   ],
   "source": [
    "high_val_labels_status = []\n",
    "high_val_labels_days = []\n",
    "low_val_labels_status = []\n",
    "low_val_labels_days = []\n",
    "group_patients = []\n",
    "for index, row in val_labels.iterrows():\n",
    "    if pred_surv_val[index-1] > median_risk_score:\n",
    "        group_patients.append(1)\n",
    "        high_val_labels_status.append(row[\"Status\"])\n",
    "        high_val_labels_days.append(row[\"Survival (in days)\"])\n",
    "    else:\n",
    "        group_patients.append(0)\n",
    "        low_val_labels_status.append(row[\"Status\"])\n",
    "        low_val_labels_days.append(row[\"Survival (in days)\"])\n",
    "print(len(high_val_labels_status))\n",
    "print(len(high_val_labels_days))\n",
    "print(len(low_val_labels_status))\n",
    "print(len(low_val_labels_days))"
   ]
  },
  {
   "cell_type": "code",
   "execution_count": 23,
   "id": "c8e23695",
   "metadata": {},
   "outputs": [
    {
     "data": {
      "text/plain": [
       "<matplotlib.legend.Legend at 0x7fac086188e0>"
      ]
     },
     "execution_count": 23,
     "metadata": {},
     "output_type": "execute_result"
    },
    {
     "data": {
      "image/png": "[encoded data removed]",
      "text/plain": [
       "<Figure size 432x288 with 1 Axes>"
      ]
     },
     "metadata": {
      "needs_background": "light"
     },
     "output_type": "display_data"
    }
   ],
   "source": [
    "time_high, survival_prob_high = kaplan_meier_estimator(high_val_labels_status, high_val_labels_days)\n",
    "time_low, survival_prob_low = kaplan_meier_estimator(low_val_labels_status, low_val_labels_days)\n",
    "\n",
    "plt.step(time_high, survival_prob_high, where=\"post\", label=\"High Risk\")\n",
    "plt.step(time_low, survival_prob_low, where=\"post\", label=\"Low Risk\")\n",
    "plt.ylabel(\"Overall Survival\")\n",
    "plt.xlabel(\"Time (in days)\")\n",
    "plt.legend(loc=\"best\")"
   ]
  },
  {
   "cell_type": "code",
   "execution_count": null,
   "id": "c3697d7e",
   "metadata": {},
   "outputs": [],
   "source": []
  },
  {
   "cell_type": "code",
   "execution_count": 24,
   "id": "c1ff5179",
   "metadata": {},
   "outputs": [],
   "source": [
    "def plot_coefficients(coefs, n_highlight):\n",
    "    _, ax = plt.subplots(figsize=(9, 6))\n",
    "    n_features = coefs.shape[0]\n",
    "    alphas = coefs.columns\n",
    "    for row in coefs.itertuples():\n",
    "        ax.semilogx(alphas, row[1:], \".-\", label=row.Index)\n",
    "\n",
    "    alpha_min = alphas.min()\n",
    "    top_coefs = coefs.loc[:, alpha_min].map(abs).sort_values().tail(n_highlight)\n",
    "    for name in top_coefs.index:\n",
    "        coef = coefs.loc[name, alpha_min]\n",
    "        plt.text(\n",
    "            alpha_min, coef, name + \"   \",\n",
    "            horizontalalignment=\"right\",\n",
    "            verticalalignment=\"center\"\n",
    "        )\n",
    "\n",
    "    ax.yaxis.set_label_position(\"right\")\n",
    "    ax.yaxis.tick_right()\n",
    "    ax.grid(True)\n",
    "    ax.set_xlabel(\"alpha\")\n",
    "    ax.set_ylabel(\"coefficient\")"
   ]
  },
  {
   "cell_type": "code",
   "execution_count": 25,
   "id": "f67461ff",
   "metadata": {},
   "outputs": [
    {
     "data": {
      "image/png": "[encoded data removed]",
      "text/plain": [
       "<Figure size 648x432 with 1 Axes>"
      ]
     },
     "metadata": {
      "needs_background": "light"
     },
     "output_type": "display_data"
    }
   ],
   "source": [
    "coefficients_lasso = pd.DataFrame(\n",
    "    estimator.coef_,\n",
    "    index=val_data_normalized.columns,\n",
    "    columns=np.round(estimator.alphas_, 5)\n",
    ")\n",
    "\n",
    "plot_coefficients(coefficients_lasso, n_highlight=5)"
   ]
  },
  {
   "cell_type": "code",
   "execution_count": null,
   "id": "9824c95c",
   "metadata": {},
   "outputs": [],
   "source": []
  },
  {
   "cell_type": "code",
   "execution_count": 26,
   "id": "92455ba4",
   "metadata": {},
   "outputs": [
    {
     "name": "stdout",
     "output_type": "stream",
     "text": [
      "(4.735200427929884, 0.029551404784035066,        counts  observed   expected  statistic\n",
      "group                                        \n",
      "0          22        13  19.033686  -6.033686\n",
      "1          29        20  13.966314   6.033686, array([[ 7.6882411, -7.6882411],\n",
      "       [-7.6882411,  7.6882411]]))\n"
     ]
    }
   ],
   "source": [
    "_ = compare_survival(y_val, group_patients, return_stats=True)\n",
    "print(_)"
   ]
  },
  {
   "cell_type": "code",
   "execution_count": null,
   "id": "1ca7c112",
   "metadata": {},
   "outputs": [],
   "source": [
    "print(\"Hazard Ratio= 2.096\")\n",
    "print(\"p-value= 0.029\")\n",
    "# print(\"Hazard Ratio= 2.067\") # when tested with 5 most prognostic features\n",
    "# print(\"p-value= 0.036\") # when tested with 5 most prognostic features"
   ]
  },
  {
   "cell_type": "code",
   "execution_count": null,
   "id": "b9de8e58",
   "metadata": {},
   "outputs": [],
   "source": [
    "est = 4.5\n",
    "p_value = 0.005\n",
    "z = -0.862 + np.sqrt(0.743 - 2.404*np.log(p_value))\n",
    "se = np.abs(est / z)\n",
    "\n",
    "u = est + 1.96*se\n",
    "l = est - 1.96*se\n",
    "print(u)\n",
    "print(l)"
   ]
  },
  {
   "cell_type": "code",
   "execution_count": null,
   "id": "2e686ba5",
   "metadata": {},
   "outputs": [],
   "source": []
  }
 ],
 "metadata": {
  "kernelspec": {
   "display_name": "Python 3",
   "language": "python",
   "name": "python3"
  },
  "language_info": {
   "codemirror_mode": {
    "name": "ipython",
    "version": 3
   },
   "file_extension": ".py",
   "mimetype": "text/x-python",
   "name": "python",
   "nbconvert_exporter": "python",
   "pygments_lexer": "ipython3",
   "version": "3.8.8"
  }
 },
 "nbformat": 4,
 "nbformat_minor": 5
}
