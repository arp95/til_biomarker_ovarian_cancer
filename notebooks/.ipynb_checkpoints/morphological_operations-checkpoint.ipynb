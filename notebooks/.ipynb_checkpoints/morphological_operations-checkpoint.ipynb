{
 "cells": [
  {
   "cell_type": "code",
   "execution_count": 1,
   "id": "f3effbff",
   "metadata": {},
   "outputs": [],
   "source": [
    "# header files\n",
    "import cv2\n",
    "import numpy as np"
   ]
  },
  {
   "cell_type": "code",
   "execution_count": 2,
   "id": "4927f71c",
   "metadata": {},
   "outputs": [],
   "source": [
    "# read image and get binary image\n",
    "image = cv2.imread(\"../code/TCGA-23-1123_epistroma_mask_15000_6000.png\", 0)\n",
    "image = cv2.GaussianBlur(image, (3, 3), 0)\n",
    "image = cv2.threshold(image, 0, 255, cv2.THRESH_BINARY)[1]\n",
    "image_inv = cv2.threshold(image, 0, 255, cv2.THRESH_BINARY_INV + cv2.THRESH_OTSU)[1]"
   ]
  },
  {
   "cell_type": "code",
   "execution_count": 3,
   "id": "4959b94c",
   "metadata": {},
   "outputs": [],
   "source": [
    "# filter using contour area and remove small noise\n",
    "cnts = cv2.findContours(image_inv, cv2.RETR_TREE, cv2.CHAIN_APPROX_SIMPLE)\n",
    "cnts = cnts[0] if len(cnts) == 2 else cnts[1]\n",
    "for c in cnts:\n",
    "    area = cv2.contourArea(c)\n",
    "    if area < 2500:\n",
    "        cv2.drawContours(image_inv, [c], -1, (0, 0, 0), -1)"
   ]
  },
  {
   "cell_type": "code",
   "execution_count": 4,
   "id": "d2db94cb",
   "metadata": {},
   "outputs": [],
   "source": [
    "# filter using contour area and remove small noise\n",
    "output_mask = 255 - image_inv\n",
    "cnts = cv2.findContours(output_mask, cv2.RETR_TREE, cv2.CHAIN_APPROX_SIMPLE)\n",
    "cnts = cnts[0] if len(cnts) == 2 else cnts[1]\n",
    "for c in cnts:\n",
    "    area = cv2.contourArea(c)\n",
    "    if area < 2500:\n",
    "        cv2.drawContours(output_mask, [c], -1, (0, 0, 0), -1)"
   ]
  },
  {
   "cell_type": "code",
   "execution_count": 5,
   "id": "19f9da41",
   "metadata": {},
   "outputs": [
    {
     "data": {
      "text/plain": [
       "True"
      ]
     },
     "execution_count": 5,
     "metadata": {},
     "output_type": "execute_result"
    }
   ],
   "source": [
    "cv2.imwrite(\"../code/sample_4.png\", output_mask)"
   ]
  },
  {
   "cell_type": "code",
   "execution_count": null,
   "id": "1f34e7a6",
   "metadata": {},
   "outputs": [],
   "source": []
  }
 ],
 "metadata": {
  "kernelspec": {
   "display_name": "Python 3",
   "language": "python",
   "name": "python3"
  },
  "language_info": {
   "codemirror_mode": {
    "name": "ipython",
    "version": 3
   },
   "file_extension": ".py",
   "mimetype": "text/x-python",
   "name": "python",
   "nbconvert_exporter": "python",
   "pygments_lexer": "ipython3",
   "version": "3.8.8"
  }
 },
 "nbformat": 4,
 "nbformat_minor": 5
}
