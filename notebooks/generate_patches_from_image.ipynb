{
 "cells": [
  {
   "cell_type": "code",
   "execution_count": null,
   "id": "f548ffff",
   "metadata": {},
   "outputs": [],
   "source": [
    "# header files\n",
    "import numpy as np\n",
    "import torch\n",
    "import torch.nn as nn\n",
    "import torch.nn.functional as F\n",
    "import torchvision\n",
    "from PIL import Image\n",
    "import slideio\n",
    "from matplotlib import pyplot as plt\n",
    "import cv2\n",
    "import os\n",
    "os.environ['KMP_DUPLICATE_LIB_OK'] = 'True'\n",
    "\n",
    "print(\"Header files loaded!\")"
   ]
  },
  {
   "cell_type": "code",
   "execution_count": null,
   "id": "d86c4219",
   "metadata": {},
   "outputs": [],
   "source": [
    "# get patches from the image\n",
    "slide = slideio.open_slide(\"../data/TCGA-23-1123.svs\", 'SVS')\n",
    "scene = slide.get_scene(0)\n",
    "image = scene.read_block((74001, 50001, 2000, 2000))\n",
    "cv2.imwrite(\"../data/TCGA-23-1123_5.png\", cv2.cvtColor(image, cv2.COLOR_RGB2BGR))\n",
    "plt.imshow(image)"
   ]
  }
 ],
 "metadata": {
  "kernelspec": {
   "display_name": "Python 3",
   "language": "python",
   "name": "python3"
  },
  "language_info": {
   "codemirror_mode": {
    "name": "ipython",
    "version": 3
   },
   "file_extension": ".py",
   "mimetype": "text/x-python",
   "name": "python",
   "nbconvert_exporter": "python",
   "pygments_lexer": "ipython3",
   "version": "3.8.8"
  }
 },
 "nbformat": 4,
 "nbformat_minor": 5
}
