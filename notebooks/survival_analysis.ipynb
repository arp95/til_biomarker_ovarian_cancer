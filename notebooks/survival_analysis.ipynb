{
 "cells": [
  {
   "cell_type": "code",
   "execution_count": 1,
   "id": "eacc948b",
   "metadata": {},
   "outputs": [],
   "source": [
    "import scipy, importlib, pprint, matplotlib.pyplot as plt, warnings\n",
    "import glob\n",
    "import csv\n",
    "import numpy as np\n",
    "import pandas as pd\n",
    "from sksurv.nonparametric import kaplan_meier_estimator\n",
    "from sksurv.linear_model import CoxPHSurvivalAnalysis\n",
    "from sksurv.linear_model import CoxnetSurvivalAnalysis\n",
    "from sksurv.preprocessing import OneHotEncoder\n",
    "from sksurv.compare import compare_survival\n",
    "%matplotlib inline\n",
    "import matplotlib.pyplot as plt"
   ]
  },
  {
   "cell_type": "code",
   "execution_count": 2,
   "id": "0f6a3689",
   "metadata": {},
   "outputs": [],
   "source": [
    "train_data = pd.read_csv(\"../data/train_features.csv\", index_col=0)\n",
    "train_data_normalized = pd.read_csv(\"../data/train_features.csv\", index_col=0)\n",
    "train_labels = pd.read_csv(\"../data/train_labels.csv\", index_col=0)"
   ]
  },
  {
   "cell_type": "code",
   "execution_count": 3,
   "id": "df367f8a",
   "metadata": {},
   "outputs": [
    {
     "name": "stderr",
     "output_type": "stream",
     "text": [
      "<ipython-input-3-bfbe53ce95ef>:2: DeprecationWarning: `np.bool` is a deprecated alias for the builtin `bool`. To silence this warning, use `bool` by itself. Doing this will not modify any behavior and is safe. If you specifically wanted the numpy scalar type, use `np.bool_` here.\n",
      "Deprecated in NumPy 1.20; for more details and guidance: https://numpy.org/devdocs/release/1.20.0-notes.html#deprecations\n",
      "  upper = corr.where(np.triu(np.ones(corr.shape), k=1).astype(np.bool))\n"
     ]
    }
   ],
   "source": [
    "corr = train_data.corr().abs()\n",
    "upper = corr.where(np.triu(np.ones(corr.shape), k=1).astype(np.bool))\n",
    "to_drop = [column for column in upper.columns if any(upper[column] > 0.99)]\n",
    "train_data = train_data.drop(train_data[to_drop], axis=1)\n",
    "train_data_normalized = train_data.copy()"
   ]
  },
  {
   "cell_type": "code",
   "execution_count": 4,
   "id": "f34649f4",
   "metadata": {},
   "outputs": [],
   "source": [
    "for col in train_data.columns:\n",
    "    train_data_normalized[col] = (train_data_normalized[col] - train_data[col].mean()) / train_data[col].std()"
   ]
  },
  {
   "cell_type": "code",
   "execution_count": 5,
   "id": "bfeb933e",
   "metadata": {},
   "outputs": [
    {
     "data": {
      "text/html": [
       "<div>\n",
       "<style scoped>\n",
       "    .dataframe tbody tr th:only-of-type {\n",
       "        vertical-align: middle;\n",
       "    }\n",
       "\n",
       "    .dataframe tbody tr th {\n",
       "        vertical-align: top;\n",
       "    }\n",
       "\n",
       "    .dataframe thead th {\n",
       "        text-align: right;\n",
       "    }\n",
       "</style>\n",
       "<table border=\"1\" class=\"dataframe\">\n",
       "  <thead>\n",
       "    <tr style=\"text-align: right;\">\n",
       "      <th></th>\n",
       "      <th>F_1</th>\n",
       "      <th>F_2</th>\n",
       "      <th>F_3</th>\n",
       "      <th>F_4</th>\n",
       "      <th>F_5</th>\n",
       "      <th>F_6</th>\n",
       "      <th>F_7</th>\n",
       "      <th>F_8</th>\n",
       "      <th>F_9</th>\n",
       "      <th>F_10</th>\n",
       "      <th>...</th>\n",
       "      <th>F_876</th>\n",
       "      <th>F_882</th>\n",
       "      <th>F_885</th>\n",
       "      <th>F_886</th>\n",
       "      <th>F_887</th>\n",
       "      <th>F_888</th>\n",
       "      <th>F_889</th>\n",
       "      <th>F_890</th>\n",
       "      <th>F_891</th>\n",
       "      <th>F_892</th>\n",
       "    </tr>\n",
       "  </thead>\n",
       "  <tbody>\n",
       "    <tr>\n",
       "      <th>1</th>\n",
       "      <td>-1.056110</td>\n",
       "      <td>-0.066462</td>\n",
       "      <td>-0.117000</td>\n",
       "      <td>-0.619754</td>\n",
       "      <td>-0.529821</td>\n",
       "      <td>0.044300</td>\n",
       "      <td>0.206948</td>\n",
       "      <td>0.624173</td>\n",
       "      <td>1.941396</td>\n",
       "      <td>0.459956</td>\n",
       "      <td>...</td>\n",
       "      <td>-0.706861</td>\n",
       "      <td>0.637114</td>\n",
       "      <td>0.936668</td>\n",
       "      <td>0.444185</td>\n",
       "      <td>0.407798</td>\n",
       "      <td>0.247528</td>\n",
       "      <td>1.136879</td>\n",
       "      <td>0.290068</td>\n",
       "      <td>-0.533715</td>\n",
       "      <td>-0.991352</td>\n",
       "    </tr>\n",
       "    <tr>\n",
       "      <th>2</th>\n",
       "      <td>-0.534194</td>\n",
       "      <td>0.928814</td>\n",
       "      <td>0.189469</td>\n",
       "      <td>0.816938</td>\n",
       "      <td>0.105656</td>\n",
       "      <td>1.014328</td>\n",
       "      <td>-0.485271</td>\n",
       "      <td>1.085586</td>\n",
       "      <td>-0.208872</td>\n",
       "      <td>-0.237062</td>\n",
       "      <td>...</td>\n",
       "      <td>0.294419</td>\n",
       "      <td>0.090957</td>\n",
       "      <td>-0.195817</td>\n",
       "      <td>-0.202792</td>\n",
       "      <td>-0.074047</td>\n",
       "      <td>0.112000</td>\n",
       "      <td>-0.252793</td>\n",
       "      <td>-0.084477</td>\n",
       "      <td>0.257662</td>\n",
       "      <td>0.376716</td>\n",
       "    </tr>\n",
       "    <tr>\n",
       "      <th>3</th>\n",
       "      <td>-0.403469</td>\n",
       "      <td>0.055378</td>\n",
       "      <td>-0.493722</td>\n",
       "      <td>0.435370</td>\n",
       "      <td>-0.520820</td>\n",
       "      <td>-0.226488</td>\n",
       "      <td>0.604294</td>\n",
       "      <td>-0.328070</td>\n",
       "      <td>-0.493032</td>\n",
       "      <td>0.324411</td>\n",
       "      <td>...</td>\n",
       "      <td>0.706389</td>\n",
       "      <td>-0.271804</td>\n",
       "      <td>-0.095672</td>\n",
       "      <td>0.215634</td>\n",
       "      <td>-0.698765</td>\n",
       "      <td>0.631502</td>\n",
       "      <td>-0.199124</td>\n",
       "      <td>-0.460340</td>\n",
       "      <td>0.576745</td>\n",
       "      <td>0.762846</td>\n",
       "    </tr>\n",
       "    <tr>\n",
       "      <th>4</th>\n",
       "      <td>-0.714659</td>\n",
       "      <td>2.120956</td>\n",
       "      <td>3.080432</td>\n",
       "      <td>0.109304</td>\n",
       "      <td>0.156848</td>\n",
       "      <td>3.779782</td>\n",
       "      <td>-0.833334</td>\n",
       "      <td>-1.495621</td>\n",
       "      <td>-2.802060</td>\n",
       "      <td>-1.095651</td>\n",
       "      <td>...</td>\n",
       "      <td>-0.241478</td>\n",
       "      <td>-0.163821</td>\n",
       "      <td>-0.414495</td>\n",
       "      <td>-0.207644</td>\n",
       "      <td>-0.591098</td>\n",
       "      <td>-0.163602</td>\n",
       "      <td>-0.628319</td>\n",
       "      <td>-0.870403</td>\n",
       "      <td>-0.095951</td>\n",
       "      <td>0.149394</td>\n",
       "    </tr>\n",
       "    <tr>\n",
       "      <th>5</th>\n",
       "      <td>1.314097</td>\n",
       "      <td>-2.063788</td>\n",
       "      <td>-0.836740</td>\n",
       "      <td>-1.702555</td>\n",
       "      <td>-0.301276</td>\n",
       "      <td>-1.391560</td>\n",
       "      <td>1.096462</td>\n",
       "      <td>1.819316</td>\n",
       "      <td>0.606975</td>\n",
       "      <td>0.848835</td>\n",
       "      <td>...</td>\n",
       "      <td>-0.161802</td>\n",
       "      <td>3.686564</td>\n",
       "      <td>1.790277</td>\n",
       "      <td>1.713440</td>\n",
       "      <td>1.390551</td>\n",
       "      <td>1.001037</td>\n",
       "      <td>1.749564</td>\n",
       "      <td>3.339978</td>\n",
       "      <td>-1.704502</td>\n",
       "      <td>-1.737208</td>\n",
       "    </tr>\n",
       "  </tbody>\n",
       "</table>\n",
       "<p>5 rows × 456 columns</p>\n",
       "</div>"
      ],
      "text/plain": [
       "        F_1       F_2       F_3       F_4       F_5       F_6       F_7  \\\n",
       "1 -1.056110 -0.066462 -0.117000 -0.619754 -0.529821  0.044300  0.206948   \n",
       "2 -0.534194  0.928814  0.189469  0.816938  0.105656  1.014328 -0.485271   \n",
       "3 -0.403469  0.055378 -0.493722  0.435370 -0.520820 -0.226488  0.604294   \n",
       "4 -0.714659  2.120956  3.080432  0.109304  0.156848  3.779782 -0.833334   \n",
       "5  1.314097 -2.063788 -0.836740 -1.702555 -0.301276 -1.391560  1.096462   \n",
       "\n",
       "        F_8       F_9      F_10  ...     F_876     F_882     F_885     F_886  \\\n",
       "1  0.624173  1.941396  0.459956  ... -0.706861  0.637114  0.936668  0.444185   \n",
       "2  1.085586 -0.208872 -0.237062  ...  0.294419  0.090957 -0.195817 -0.202792   \n",
       "3 -0.328070 -0.493032  0.324411  ...  0.706389 -0.271804 -0.095672  0.215634   \n",
       "4 -1.495621 -2.802060 -1.095651  ... -0.241478 -0.163821 -0.414495 -0.207644   \n",
       "5  1.819316  0.606975  0.848835  ... -0.161802  3.686564  1.790277  1.713440   \n",
       "\n",
       "      F_887     F_888     F_889     F_890     F_891     F_892  \n",
       "1  0.407798  0.247528  1.136879  0.290068 -0.533715 -0.991352  \n",
       "2 -0.074047  0.112000 -0.252793 -0.084477  0.257662  0.376716  \n",
       "3 -0.698765  0.631502 -0.199124 -0.460340  0.576745  0.762846  \n",
       "4 -0.591098 -0.163602 -0.628319 -0.870403 -0.095951  0.149394  \n",
       "5  1.390551  1.001037  1.749564  3.339978 -1.704502 -1.737208  \n",
       "\n",
       "[5 rows x 456 columns]"
      ]
     },
     "execution_count": 5,
     "metadata": {},
     "output_type": "execute_result"
    }
   ],
   "source": [
    "train_data_normalized.head()"
   ]
  },
  {
   "cell_type": "code",
   "execution_count": 6,
   "id": "07c07dd2",
   "metadata": {},
   "outputs": [
    {
     "data": {
      "text/html": [
       "<div>\n",
       "<style scoped>\n",
       "    .dataframe tbody tr th:only-of-type {\n",
       "        vertical-align: middle;\n",
       "    }\n",
       "\n",
       "    .dataframe tbody tr th {\n",
       "        vertical-align: top;\n",
       "    }\n",
       "\n",
       "    .dataframe thead th {\n",
       "        text-align: right;\n",
       "    }\n",
       "</style>\n",
       "<table border=\"1\" class=\"dataframe\">\n",
       "  <thead>\n",
       "    <tr style=\"text-align: right;\">\n",
       "      <th></th>\n",
       "      <th>Status</th>\n",
       "      <th>Survival (in days)</th>\n",
       "    </tr>\n",
       "  </thead>\n",
       "  <tbody>\n",
       "    <tr>\n",
       "      <th>1</th>\n",
       "      <td>False</td>\n",
       "      <td>763.0</td>\n",
       "    </tr>\n",
       "    <tr>\n",
       "      <th>2</th>\n",
       "      <td>True</td>\n",
       "      <td>1018.0</td>\n",
       "    </tr>\n",
       "    <tr>\n",
       "      <th>3</th>\n",
       "      <td>True</td>\n",
       "      <td>1091.0</td>\n",
       "    </tr>\n",
       "    <tr>\n",
       "      <th>4</th>\n",
       "      <td>True</td>\n",
       "      <td>1562.0</td>\n",
       "    </tr>\n",
       "    <tr>\n",
       "      <th>5</th>\n",
       "      <td>False</td>\n",
       "      <td>194.0</td>\n",
       "    </tr>\n",
       "  </tbody>\n",
       "</table>\n",
       "</div>"
      ],
      "text/plain": [
       "   Status  Survival (in days)\n",
       "1   False               763.0\n",
       "2    True              1018.0\n",
       "3    True              1091.0\n",
       "4    True              1562.0\n",
       "5   False               194.0"
      ]
     },
     "execution_count": 6,
     "metadata": {},
     "output_type": "execute_result"
    }
   ],
   "source": [
    "columns_titles = [\"Status\", \"Survival (in days)\"]\n",
    "train_labels = train_labels.reindex(columns=columns_titles)\n",
    "train_labels[\"Status\"] = train_labels[\"Status\"].astype('bool')\n",
    "train_labels.head()"
   ]
  },
  {
   "cell_type": "code",
   "execution_count": 7,
   "id": "3933355e",
   "metadata": {},
   "outputs": [],
   "source": [
    "val_data = pd.read_csv(\"../data/val_features.csv\", index_col=0)\n",
    "val_data_normalized = pd.read_csv(\"../data/val_features.csv\", index_col=0)\n",
    "val_labels = pd.read_csv(\"../data/val_labels.csv\", index_col=0)"
   ]
  },
  {
   "cell_type": "code",
   "execution_count": 8,
   "id": "682fd7ca",
   "metadata": {},
   "outputs": [],
   "source": [
    "val_data = val_data[train_data.columns]\n",
    "val_data_normalized = val_data_normalized[train_data.columns]"
   ]
  },
  {
   "cell_type": "code",
   "execution_count": 9,
   "id": "8b7c2f18",
   "metadata": {},
   "outputs": [],
   "source": [
    "for col in val_data.columns:\n",
    "    val_data_normalized[col] = (val_data_normalized[col] - train_data[col].mean()) / train_data[col].std()"
   ]
  },
  {
   "cell_type": "code",
   "execution_count": 10,
   "id": "abec0c78",
   "metadata": {},
   "outputs": [
    {
     "data": {
      "text/html": [
       "<div>\n",
       "<style scoped>\n",
       "    .dataframe tbody tr th:only-of-type {\n",
       "        vertical-align: middle;\n",
       "    }\n",
       "\n",
       "    .dataframe tbody tr th {\n",
       "        vertical-align: top;\n",
       "    }\n",
       "\n",
       "    .dataframe thead th {\n",
       "        text-align: right;\n",
       "    }\n",
       "</style>\n",
       "<table border=\"1\" class=\"dataframe\">\n",
       "  <thead>\n",
       "    <tr style=\"text-align: right;\">\n",
       "      <th></th>\n",
       "      <th>F_1</th>\n",
       "      <th>F_2</th>\n",
       "      <th>F_3</th>\n",
       "      <th>F_4</th>\n",
       "      <th>F_5</th>\n",
       "      <th>F_6</th>\n",
       "      <th>F_7</th>\n",
       "      <th>F_8</th>\n",
       "      <th>F_9</th>\n",
       "      <th>F_10</th>\n",
       "      <th>...</th>\n",
       "      <th>F_876</th>\n",
       "      <th>F_882</th>\n",
       "      <th>F_885</th>\n",
       "      <th>F_886</th>\n",
       "      <th>F_887</th>\n",
       "      <th>F_888</th>\n",
       "      <th>F_889</th>\n",
       "      <th>F_890</th>\n",
       "      <th>F_891</th>\n",
       "      <th>F_892</th>\n",
       "    </tr>\n",
       "  </thead>\n",
       "  <tbody>\n",
       "    <tr>\n",
       "      <th>1</th>\n",
       "      <td>-0.910266</td>\n",
       "      <td>0.707239</td>\n",
       "      <td>-0.215694</td>\n",
       "      <td>0.424372</td>\n",
       "      <td>-0.497750</td>\n",
       "      <td>0.411459</td>\n",
       "      <td>2.298187</td>\n",
       "      <td>1.207506</td>\n",
       "      <td>1.885864</td>\n",
       "      <td>1.072481</td>\n",
       "      <td>...</td>\n",
       "      <td>0.805015</td>\n",
       "      <td>0.056495</td>\n",
       "      <td>-0.162711</td>\n",
       "      <td>-0.302785</td>\n",
       "      <td>0.197237</td>\n",
       "      <td>0.126039</td>\n",
       "      <td>-0.027506</td>\n",
       "      <td>-0.144220</td>\n",
       "      <td>0.284317</td>\n",
       "      <td>0.421346</td>\n",
       "    </tr>\n",
       "    <tr>\n",
       "      <th>2</th>\n",
       "      <td>-0.520290</td>\n",
       "      <td>0.123090</td>\n",
       "      <td>-0.582805</td>\n",
       "      <td>-0.279369</td>\n",
       "      <td>-0.755729</td>\n",
       "      <td>-0.371042</td>\n",
       "      <td>0.458016</td>\n",
       "      <td>1.265377</td>\n",
       "      <td>0.313939</td>\n",
       "      <td>0.667832</td>\n",
       "      <td>...</td>\n",
       "      <td>-0.836132</td>\n",
       "      <td>0.411719</td>\n",
       "      <td>0.208586</td>\n",
       "      <td>-0.039614</td>\n",
       "      <td>0.919001</td>\n",
       "      <td>-0.057120</td>\n",
       "      <td>0.222039</td>\n",
       "      <td>0.557975</td>\n",
       "      <td>-0.777910</td>\n",
       "      <td>-0.902443</td>\n",
       "    </tr>\n",
       "    <tr>\n",
       "      <th>3</th>\n",
       "      <td>-0.472993</td>\n",
       "      <td>-0.535176</td>\n",
       "      <td>-0.510532</td>\n",
       "      <td>-0.367650</td>\n",
       "      <td>-0.449702</td>\n",
       "      <td>-0.515521</td>\n",
       "      <td>2.204829</td>\n",
       "      <td>1.860840</td>\n",
       "      <td>1.481813</td>\n",
       "      <td>0.558733</td>\n",
       "      <td>...</td>\n",
       "      <td>0.458753</td>\n",
       "      <td>-0.410265</td>\n",
       "      <td>-0.102543</td>\n",
       "      <td>0.139388</td>\n",
       "      <td>0.257042</td>\n",
       "      <td>0.192333</td>\n",
       "      <td>-0.234173</td>\n",
       "      <td>-0.087923</td>\n",
       "      <td>0.147780</td>\n",
       "      <td>0.442809</td>\n",
       "    </tr>\n",
       "    <tr>\n",
       "      <th>4</th>\n",
       "      <td>-0.547761</td>\n",
       "      <td>-1.656018</td>\n",
       "      <td>-0.982235</td>\n",
       "      <td>-0.930133</td>\n",
       "      <td>-1.050826</td>\n",
       "      <td>-1.335403</td>\n",
       "      <td>2.117784</td>\n",
       "      <td>1.232779</td>\n",
       "      <td>2.840794</td>\n",
       "      <td>1.857272</td>\n",
       "      <td>...</td>\n",
       "      <td>-0.267748</td>\n",
       "      <td>0.583199</td>\n",
       "      <td>0.963628</td>\n",
       "      <td>0.979068</td>\n",
       "      <td>0.584806</td>\n",
       "      <td>1.198001</td>\n",
       "      <td>1.076176</td>\n",
       "      <td>0.960340</td>\n",
       "      <td>-0.431039</td>\n",
       "      <td>-0.170536</td>\n",
       "    </tr>\n",
       "    <tr>\n",
       "      <th>5</th>\n",
       "      <td>0.359143</td>\n",
       "      <td>-1.138271</td>\n",
       "      <td>-0.081716</td>\n",
       "      <td>-0.627201</td>\n",
       "      <td>0.087820</td>\n",
       "      <td>-0.625837</td>\n",
       "      <td>-0.166860</td>\n",
       "      <td>-0.318918</td>\n",
       "      <td>0.372653</td>\n",
       "      <td>0.132179</td>\n",
       "      <td>...</td>\n",
       "      <td>-0.005836</td>\n",
       "      <td>-0.531112</td>\n",
       "      <td>-0.087614</td>\n",
       "      <td>-0.047812</td>\n",
       "      <td>-0.135445</td>\n",
       "      <td>0.066979</td>\n",
       "      <td>-0.088199</td>\n",
       "      <td>0.112228</td>\n",
       "      <td>-0.256799</td>\n",
       "      <td>-0.066668</td>\n",
       "    </tr>\n",
       "  </tbody>\n",
       "</table>\n",
       "<p>5 rows × 456 columns</p>\n",
       "</div>"
      ],
      "text/plain": [
       "        F_1       F_2       F_3       F_4       F_5       F_6       F_7  \\\n",
       "1 -0.910266  0.707239 -0.215694  0.424372 -0.497750  0.411459  2.298187   \n",
       "2 -0.520290  0.123090 -0.582805 -0.279369 -0.755729 -0.371042  0.458016   \n",
       "3 -0.472993 -0.535176 -0.510532 -0.367650 -0.449702 -0.515521  2.204829   \n",
       "4 -0.547761 -1.656018 -0.982235 -0.930133 -1.050826 -1.335403  2.117784   \n",
       "5  0.359143 -1.138271 -0.081716 -0.627201  0.087820 -0.625837 -0.166860   \n",
       "\n",
       "        F_8       F_9      F_10  ...     F_876     F_882     F_885     F_886  \\\n",
       "1  1.207506  1.885864  1.072481  ...  0.805015  0.056495 -0.162711 -0.302785   \n",
       "2  1.265377  0.313939  0.667832  ... -0.836132  0.411719  0.208586 -0.039614   \n",
       "3  1.860840  1.481813  0.558733  ...  0.458753 -0.410265 -0.102543  0.139388   \n",
       "4  1.232779  2.840794  1.857272  ... -0.267748  0.583199  0.963628  0.979068   \n",
       "5 -0.318918  0.372653  0.132179  ... -0.005836 -0.531112 -0.087614 -0.047812   \n",
       "\n",
       "      F_887     F_888     F_889     F_890     F_891     F_892  \n",
       "1  0.197237  0.126039 -0.027506 -0.144220  0.284317  0.421346  \n",
       "2  0.919001 -0.057120  0.222039  0.557975 -0.777910 -0.902443  \n",
       "3  0.257042  0.192333 -0.234173 -0.087923  0.147780  0.442809  \n",
       "4  0.584806  1.198001  1.076176  0.960340 -0.431039 -0.170536  \n",
       "5 -0.135445  0.066979 -0.088199  0.112228 -0.256799 -0.066668  \n",
       "\n",
       "[5 rows x 456 columns]"
      ]
     },
     "execution_count": 10,
     "metadata": {},
     "output_type": "execute_result"
    }
   ],
   "source": [
    "val_data_normalized.head()"
   ]
  },
  {
   "cell_type": "code",
   "execution_count": 11,
   "id": "cbcb78cd",
   "metadata": {},
   "outputs": [
    {
     "data": {
      "text/html": [
       "<div>\n",
       "<style scoped>\n",
       "    .dataframe tbody tr th:only-of-type {\n",
       "        vertical-align: middle;\n",
       "    }\n",
       "\n",
       "    .dataframe tbody tr th {\n",
       "        vertical-align: top;\n",
       "    }\n",
       "\n",
       "    .dataframe thead th {\n",
       "        text-align: right;\n",
       "    }\n",
       "</style>\n",
       "<table border=\"1\" class=\"dataframe\">\n",
       "  <thead>\n",
       "    <tr style=\"text-align: right;\">\n",
       "      <th></th>\n",
       "      <th>Status</th>\n",
       "      <th>Survival (in days)</th>\n",
       "    </tr>\n",
       "  </thead>\n",
       "  <tbody>\n",
       "    <tr>\n",
       "      <th>1</th>\n",
       "      <td>True</td>\n",
       "      <td>2587.0</td>\n",
       "    </tr>\n",
       "    <tr>\n",
       "      <th>2</th>\n",
       "      <td>False</td>\n",
       "      <td>143.0</td>\n",
       "    </tr>\n",
       "    <tr>\n",
       "      <th>3</th>\n",
       "      <td>False</td>\n",
       "      <td>16.0</td>\n",
       "    </tr>\n",
       "    <tr>\n",
       "      <th>4</th>\n",
       "      <td>True</td>\n",
       "      <td>820.0</td>\n",
       "    </tr>\n",
       "    <tr>\n",
       "      <th>5</th>\n",
       "      <td>False</td>\n",
       "      <td>1503.0</td>\n",
       "    </tr>\n",
       "  </tbody>\n",
       "</table>\n",
       "</div>"
      ],
      "text/plain": [
       "   Status  Survival (in days)\n",
       "1    True              2587.0\n",
       "2   False               143.0\n",
       "3   False                16.0\n",
       "4    True               820.0\n",
       "5   False              1503.0"
      ]
     },
     "execution_count": 11,
     "metadata": {},
     "output_type": "execute_result"
    }
   ],
   "source": [
    "columns_titles = [\"Status\", \"Survival (in days)\"]\n",
    "val_labels = val_labels.reindex(columns=columns_titles)\n",
    "val_labels[\"Status\"] = val_labels[\"Status\"].astype('bool')\n",
    "val_labels.head()"
   ]
  },
  {
   "cell_type": "code",
   "execution_count": 12,
   "id": "184587ed",
   "metadata": {},
   "outputs": [
    {
     "name": "stdout",
     "output_type": "stream",
     "text": [
      "[(False,  763.) ( True, 1018.) ( True, 1091.) ( True, 1562.)\n",
      " (False,  194.) (False,  130.) ( True,  565.) ( True,  394.)\n",
      " (False, 1278.) ( True, 1891.) (False, 2616.) ( True,  304.)\n",
      " (False,  761.) (False, 3953.) ( True, 1799.) ( True,  880.)\n",
      " ( True,  518.) ( True, 1162.) ( True,  840.) ( True,    9.)\n",
      " ( True,  760.) ( True, 1249.) ( True, 1446.) ( True,  883.)\n",
      " ( True,  455.) (False,  116.) ( True,  976.) ( True, 1977.)\n",
      " ( True, 1511.) ( True,  759.) (False, 1233.) ( True, 1064.)\n",
      " ( True, 1035.) ( True,  730.) ( True, 1155.) ( True,  976.)\n",
      " (False, 3525.) (False,  816.) ( True,   84.) ( True, 1033.)\n",
      " ( True,  624.) ( True,  608.) ( True, 1278.) ( True,  395.)\n",
      " (False,  468.) (False,  886.) (False,  420.) ( True,  575.)\n",
      " ( True,   91.) ( True,   90.) ( True, 1369.)]\n"
     ]
    }
   ],
   "source": [
    "y_train = []\n",
    "for index, row in train_labels.iterrows():\n",
    "    y_train.append((row[\"Status\"], row[\"Survival (in days)\"]))\n",
    "dt = dtype=[('Status', '?'), ('Survival_in_days', '<f8')]\n",
    "y_train = np.array([tuple(row) for row in y_train], dtype=dt)\n",
    "print(y_train)"
   ]
  },
  {
   "cell_type": "code",
   "execution_count": 13,
   "id": "ea61fc2b",
   "metadata": {},
   "outputs": [
    {
     "name": "stdout",
     "output_type": "stream",
     "text": [
      "[( True, 2587.) (False,  143.) (False,   16.) ( True,  820.)\n",
      " (False, 1503.) (False, 2788.) (False, 2661.) (False,  268.)\n",
      " ( True,   31.) (False,  361.) ( True,   92.) ( True, 1516.)\n",
      " (False,   84.) ( True,  365.) ( True, 1157.) (False,  137.)\n",
      " ( True,  457.) ( True, 1583.) ( True, 2342.) ( True, 1004.)\n",
      " ( True, 2009.) ( True,   31.) ( True,  821.) ( True, 1279.)\n",
      " ( True,   61.) ( True,  943.) (False,  135.) ( True, 1492.)\n",
      " ( True,  627.) ( True, 1013.) ( True,  731.) ( True,  396.)\n",
      " ( True,  346.) ( True,  592.) ( True,   45.) (False,  722.)\n",
      " (False, 1240.) ( True, 2089.) ( True,  317.) (False, 1207.)\n",
      " (False,   98.) ( True,   53.) (False, 1658.) (False,  576.)\n",
      " (False,  679.) ( True,    9.) ( True,  949.) ( True, 1447.)\n",
      " ( True, 1583.) ( True, 1189.) (False,  882.)]\n"
     ]
    }
   ],
   "source": [
    "y_val = []\n",
    "for index, row in val_labels.iterrows():\n",
    "    y_val.append((row[\"Status\"], row[\"Survival (in days)\"]))\n",
    "dt = dtype=[('Status', '?'), ('Survival_in_days', '<f8')]\n",
    "y_val = np.array([tuple(row) for row in y_val], dtype=dt)\n",
    "print(y_val)"
   ]
  },
  {
   "cell_type": "code",
   "execution_count": null,
   "id": "19f1f00a",
   "metadata": {},
   "outputs": [],
   "source": []
  },
  {
   "cell_type": "code",
   "execution_count": 14,
   "id": "734112d1",
   "metadata": {},
   "outputs": [
    {
     "name": "stderr",
     "output_type": "stream",
     "text": [
      "/Users/arpitdec5/opt/anaconda3/lib/python3.8/site-packages/sksurv/linear_model/coxph.py:80: RuntimeWarning: overflow encountered in exp\n",
      "  numpy.exp(- self.cum_baseline_hazard_.y))\n"
     ]
    },
    {
     "data": {
      "text/plain": [
       "CoxnetSurvivalAnalysis(fit_baseline_model=True, l1_ratio=0.9)"
      ]
     },
     "execution_count": 14,
     "metadata": {},
     "output_type": "execute_result"
    }
   ],
   "source": [
    "estimator = CoxnetSurvivalAnalysis(l1_ratio=0.9, fit_baseline_model=True)\n",
    "estimator.fit(train_data_normalized, y_train)"
   ]
  },
  {
   "cell_type": "code",
   "execution_count": 15,
   "id": "871bc230",
   "metadata": {},
   "outputs": [
    {
     "data": {
      "text/plain": [
       "0.6267166042446941"
      ]
     },
     "execution_count": 15,
     "metadata": {},
     "output_type": "execute_result"
    }
   ],
   "source": [
    "estimator.score(train_data_normalized, y_train)\n",
    "estimator.score(val_data_normalized, y_val)"
   ]
  },
  {
   "cell_type": "code",
   "execution_count": null,
   "id": "740939d7",
   "metadata": {},
   "outputs": [],
   "source": []
  },
  {
   "cell_type": "code",
   "execution_count": 16,
   "id": "db1d7ecb",
   "metadata": {},
   "outputs": [
    {
     "name": "stdout",
     "output_type": "stream",
     "text": [
      "51\n",
      "51\n"
     ]
    }
   ],
   "source": [
    "pred_surv_train = estimator.predict(train_data_normalized)\n",
    "pred_surv_val = estimator.predict(val_data_normalized)\n",
    "print(len(pred_surv_train))\n",
    "print(len(pred_surv_val))"
   ]
  },
  {
   "cell_type": "code",
   "execution_count": 17,
   "id": "dc321160",
   "metadata": {},
   "outputs": [
    {
     "name": "stdout",
     "output_type": "stream",
     "text": [
      "37\n",
      "14\n",
      "33\n",
      "18\n"
     ]
    }
   ],
   "source": [
    "x_train_survival = []\n",
    "x_train_survival_censored = []\n",
    "x_val_survival = []\n",
    "x_val_survival_censored = []\n",
    "y_train_survival = []\n",
    "y_val_survival = []\n",
    "y_train_survival_censored = []\n",
    "y_val_survival_censored = []\n",
    "for index in range(0, len(y_train)):\n",
    "    if y_train[index][0] == 1:\n",
    "        x_train_survival.append(pred_surv_train[index])\n",
    "        y_train_survival.append(y_train[index][1])\n",
    "    else:\n",
    "        x_train_survival_censored.append(pred_surv_train[index])\n",
    "        y_train_survival_censored.append(y_train[index][1])\n",
    "for index in range(0, len(y_val)):\n",
    "    if y_val[index][0] == 1:\n",
    "        x_val_survival.append(pred_surv_val[index])\n",
    "        y_val_survival.append(y_val[index][1])\n",
    "    else:\n",
    "        x_val_survival_censored.append(pred_surv_val[index])\n",
    "        y_val_survival_censored.append(y_val[index][1])\n",
    "print(len(y_train_survival))\n",
    "print(len(y_train_survival_censored))\n",
    "print(len(y_val_survival))\n",
    "print(len(y_val_survival_censored))"
   ]
  },
  {
   "cell_type": "code",
   "execution_count": 18,
   "id": "7d75e3ab",
   "metadata": {},
   "outputs": [
    {
     "name": "stdout",
     "output_type": "stream",
     "text": [
      "3.323438013893358\n"
     ]
    }
   ],
   "source": [
    "median_risk_score = np.median(x_train_survival)\n",
    "print(median_risk_score)"
   ]
  },
  {
   "cell_type": "code",
   "execution_count": 19,
   "id": "a27d4195",
   "metadata": {},
   "outputs": [
    {
     "data": {
      "image/png": "[encoded data removed]",
      "text/plain": [
       "<Figure size 432x288 with 1 Axes>"
      ]
     },
     "metadata": {
      "needs_background": "light"
     },
     "output_type": "display_data"
    }
   ],
   "source": [
    "fig, ax = plt.subplots()\n",
    "\n",
    "ax.scatter(y_train_survival, x_train_survival, color='b', label=\"Event\")\n",
    "ax.scatter(y_train_survival_censored, x_train_survival_censored, color='r', label=\"Censored\")\n",
    "ax.axhline(y=median_risk_score, color=[0,0,0], linestyle='--', label=\"Cut-off Risk Score\")\n",
    "ax.legend()\n",
    "plt.title(\"Risk Score Plot (Training)\")\n",
    "plt.ylabel(\"Risk Score\")\n",
    "plt.xlabel(\"Survival (in days)\")\n",
    "plt.show()"
   ]
  },
  {
   "cell_type": "code",
   "execution_count": 20,
   "id": "91fec67a",
   "metadata": {},
   "outputs": [
    {
     "data": {
      "image/png": "[encoded data removed]",
      "text/plain": [
       "<Figure size 432x288 with 1 Axes>"
      ]
     },
     "metadata": {
      "needs_background": "light"
     },
     "output_type": "display_data"
    }
   ],
   "source": [
    "fig, ax = plt.subplots()\n",
    "\n",
    "ax.scatter(y_val_survival, x_val_survival, color='b', label=\"Event\")\n",
    "ax.scatter(y_val_survival_censored, x_val_survival_censored, color='r', label=\"Censored\")\n",
    "ax.axhline(y=median_risk_score, color=[0,0,0], linestyle='--', label=\"Cut-off Risk Score\")\n",
    "ax.legend()\n",
    "plt.title(\"Risk Score Plot (Validation)\")\n",
    "plt.ylabel(\"Risk Score\")\n",
    "plt.xlabel(\"Survival (in days)\")\n",
    "plt.show()"
   ]
  },
  {
   "cell_type": "code",
   "execution_count": null,
   "id": "e532aec3",
   "metadata": {},
   "outputs": [],
   "source": []
  },
  {
   "cell_type": "code",
   "execution_count": 21,
   "id": "1dccbb67",
   "metadata": {},
   "outputs": [
    {
     "name": "stdout",
     "output_type": "stream",
     "text": [
      "26\n",
      "26\n",
      "25\n",
      "25\n"
     ]
    }
   ],
   "source": [
    "high_val_labels_status = []\n",
    "high_val_labels_days = []\n",
    "low_val_labels_status = []\n",
    "low_val_labels_days = []\n",
    "group_patients = []\n",
    "for index, row in val_labels.iterrows():\n",
    "    if pred_surv_val[index-1] > median_risk_score:\n",
    "        group_patients.append(1)\n",
    "        high_val_labels_status.append(row[\"Status\"])\n",
    "        high_val_labels_days.append(row[\"Survival (in days)\"])\n",
    "    else:\n",
    "        group_patients.append(0)\n",
    "        low_val_labels_status.append(row[\"Status\"])\n",
    "        low_val_labels_days.append(row[\"Survival (in days)\"])\n",
    "print(len(high_val_labels_status))\n",
    "print(len(high_val_labels_days))\n",
    "print(len(low_val_labels_status))\n",
    "print(len(low_val_labels_days))"
   ]
  },
  {
   "cell_type": "code",
   "execution_count": 22,
   "id": "c8e23695",
   "metadata": {},
   "outputs": [
    {
     "data": {
      "text/plain": [
       "<matplotlib.legend.Legend at 0x7f8b8810dca0>"
      ]
     },
     "execution_count": 22,
     "metadata": {},
     "output_type": "execute_result"
    },
    {
     "data": {
      "image/png": "[encoded data removed]",
      "text/plain": [
       "<Figure size 432x288 with 1 Axes>"
      ]
     },
     "metadata": {
      "needs_background": "light"
     },
     "output_type": "display_data"
    }
   ],
   "source": [
    "time_high, survival_prob_high = kaplan_meier_estimator(high_val_labels_status, high_val_labels_days)\n",
    "time_low, survival_prob_low = kaplan_meier_estimator(low_val_labels_status, low_val_labels_days)\n",
    "\n",
    "plt.step(time_high, survival_prob_high, where=\"post\", label=\"High Risk\")\n",
    "plt.step(time_low, survival_prob_low, where=\"post\", label=\"Low Risk\")\n",
    "plt.ylabel(\"Overall Survival\")\n",
    "plt.xlabel(\"Time (in days)\")\n",
    "plt.legend(loc=\"best\")"
   ]
  },
  {
   "cell_type": "code",
   "execution_count": null,
   "id": "c3697d7e",
   "metadata": {},
   "outputs": [],
   "source": []
  },
  {
   "cell_type": "code",
   "execution_count": 23,
   "id": "c1ff5179",
   "metadata": {},
   "outputs": [],
   "source": [
    "def plot_coefficients(coefs, n_highlight):\n",
    "    _, ax = plt.subplots(figsize=(9, 6))\n",
    "    n_features = coefs.shape[0]\n",
    "    alphas = coefs.columns\n",
    "    for row in coefs.itertuples():\n",
    "        ax.semilogx(alphas, row[1:], \".-\", label=row.Index)\n",
    "\n",
    "    alpha_min = alphas.min()\n",
    "    top_coefs = coefs.loc[:, alpha_min].map(abs).sort_values().tail(n_highlight)\n",
    "    for name in top_coefs.index:\n",
    "        coef = coefs.loc[name, alpha_min]\n",
    "        plt.text(\n",
    "            alpha_min, coef, name + \"   \",\n",
    "            horizontalalignment=\"right\",\n",
    "            verticalalignment=\"center\"\n",
    "        )\n",
    "\n",
    "    ax.yaxis.set_label_position(\"right\")\n",
    "    ax.yaxis.tick_right()\n",
    "    ax.grid(True)\n",
    "    ax.set_xlabel(\"alpha\")\n",
    "    ax.set_ylabel(\"coefficient\")"
   ]
  },
  {
   "cell_type": "code",
   "execution_count": 24,
   "id": "f67461ff",
   "metadata": {},
   "outputs": [
    {
     "data": {
      "image/png": "[encoded data removed]",
      "text/plain": [
       "<Figure size 648x432 with 1 Axes>"
      ]
     },
     "metadata": {
      "needs_background": "light"
     },
     "output_type": "display_data"
    }
   ],
   "source": [
    "coefficients_lasso = pd.DataFrame(\n",
    "    estimator.coef_,\n",
    "    index=val_data_normalized.columns,\n",
    "    columns=np.round(estimator.alphas_, 5)\n",
    ")\n",
    "\n",
    "plot_coefficients(coefficients_lasso, n_highlight=5)"
   ]
  },
  {
   "cell_type": "code",
   "execution_count": null,
   "id": "9824c95c",
   "metadata": {},
   "outputs": [],
   "source": []
  },
  {
   "cell_type": "code",
   "execution_count": 25,
   "id": "92455ba4",
   "metadata": {},
   "outputs": [
    {
     "name": "stdout",
     "output_type": "stream",
     "text": [
      "(5.216615052862711, 0.022372057762407197,        counts  observed   expected  statistic\n",
      "group                                        \n",
      "0          25        14  20.243738  -6.243738\n",
      "1          26        19  12.756262   6.243738, array([[ 7.47309633, -7.47309633],\n",
      "       [-7.47309633,  7.47309633]]))\n"
     ]
    }
   ],
   "source": [
    "_ = compare_survival(y_val, group_patients, return_stats=True)\n",
    "print(_)"
   ]
  },
  {
   "cell_type": "code",
   "execution_count": null,
   "id": "1ca7c112",
   "metadata": {},
   "outputs": [],
   "source": [
    "print(\"Hazard Ratio = 2.1538\")\n",
    "print(\"p-value = 0.0223\")"
   ]
  },
  {
   "cell_type": "code",
   "execution_count": 27,
   "id": "b9de8e58",
   "metadata": {},
   "outputs": [
    {
     "name": "stdout",
     "output_type": "stream",
     "text": [
      "11.606053676967578\n",
      "0.881422323032421\n"
     ]
    }
   ],
   "source": [
    "est = 5.216615\n",
    "p_value = 0.0223\n",
    "z = -0.862 + np.sqrt(0.743 - 2.404*np.log(p_value))\n",
    "se = np.abs(est / z)\n",
    "\n",
    "u = est + 1.96*se\n",
    "l = est - 1.96*se\n",
    "print(u)\n",
    "print(l)"
   ]
  },
  {
   "cell_type": "code",
   "execution_count": null,
   "id": "2e686ba5",
   "metadata": {},
   "outputs": [],
   "source": []
  }
 ],
 "metadata": {
  "kernelspec": {
   "display_name": "Python 3",
   "language": "python",
   "name": "python3"
  },
  "language_info": {
   "codemirror_mode": {
    "name": "ipython",
    "version": 3
   },
   "file_extension": ".py",
   "mimetype": "text/x-python",
   "name": "python",
   "nbconvert_exporter": "python",
   "pygments_lexer": "ipython3",
   "version": "3.8.8"
  }
 },
 "nbformat": 4,
 "nbformat_minor": 5
}
