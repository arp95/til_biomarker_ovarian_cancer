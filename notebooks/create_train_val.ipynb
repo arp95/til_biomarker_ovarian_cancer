{
 "cells": [
  {
   "cell_type": "code",
   "execution_count": 1,
   "id": "95e7d091",
   "metadata": {},
   "outputs": [],
   "source": [
    "import scipy, importlib, pprint, matplotlib.pyplot as plt, warnings\n",
    "#from glmnet import glmnet; from glmnetPlot import glmnetPlot \n",
    "#from glmnetPrint import glmnetPrint; from glmnetCoef import glmnetCoef; from glmnetPredict import glmnetPredict\n",
    "#from cvglmnet import cvglmnet; from cvglmnetCoef import cvglmnetCoef\n",
    "#from cvglmnetPlot import cvglmnetPlot; from cvglmnetPredict import cvglmnetPredict\n",
    "import glob\n",
    "import csv\n",
    "import numpy as np\n",
    "from sksurv.nonparametric import kaplan_meier_estimator\n",
    "from sksurv.linear_model import CoxPHSurvivalAnalysis\n",
    "from sksurv.preprocessing import OneHotEncoder\n",
    "%matplotlib inline\n",
    "import matplotlib.pyplot as plt"
   ]
  },
  {
   "cell_type": "code",
   "execution_count": 3,
   "id": "0a3f6e54",
   "metadata": {},
   "outputs": [
    {
     "name": "stdout",
     "output_type": "stream",
     "text": [
      "102\n"
     ]
    }
   ],
   "source": [
    "files = glob.glob(\"../../final_features/*\")\n",
    "print(len(files))"
   ]
  },
  {
   "cell_type": "code",
   "execution_count": 4,
   "id": "edceaabc",
   "metadata": {},
   "outputs": [
    {
     "name": "stdout",
     "output_type": "stream",
     "text": [
      "['../../final_features/TCGA-25-1878.csv', '../../final_features/TCGA-23-2643.csv', '../../final_features/TCGA-23-1809.csv', '../../final_features/TCGA-25-1313.csv', '../../final_features/TCGA-23-1028.csv', '../../final_features/TCGA-23-2079.csv', '../../final_features/TCGA-23-2078.csv', '../../final_features/TCGA-23-1029.csv', '../../final_features/TCGA-25-1312.csv', '../../final_features/TCGA-5X-AA5U.csv', '../../final_features/TCGA-25-2396.csv', '../../final_features/TCGA-23-2084.csv', '../../final_features/TCGA-23-2641.csv', '../../final_features/TCGA-25-2397.csv', '../../final_features/TCGA-25-2393.csv', '../../final_features/TCGA-23-2645.csv', '../../final_features/TCGA-25-1329.csv', '../../final_features/TCGA-25-1315.csv', '../../final_features/TCGA-23-2081.csv', '../../final_features/TCGA-25-1314.csv', '../../final_features/TCGA-25-1328.csv', '../../final_features/TCGA-25-2392.csv', '../../final_features/TCGA-25-2409.csv', '../../final_features/TCGA-25-1316.csv', '../../final_features/TCGA-25-1317.csv', '../../final_features/TCGA-25-2408.csv', '../../final_features/TCGA-23-2647.csv', '../../final_features/TCGA-25-2391.csv', '../../final_features/TCGA-25-1628.csv', '../../final_features/TCGA-23-1117.csv', '../../final_features/TCGA-57-1582.csv', '../../final_features/TCGA-25-2042.csv', '../../final_features/TCGA-57-1583.csv', '../../final_features/TCGA-23-1116.csv', '../../final_features/TCGA-42-2593.csv', '../../final_features/TCGA-42-2587.csv', '../../final_features/TCGA-42-2591.csv', '../../final_features/TCGA-23-1114.csv', '../../final_features/TCGA-42-2590.csv', '../../final_features/TCGA-OY-A56P.csv', '../../final_features/TCGA-23-1111.csv', '../../final_features/TCGA-57-1585.csv', '../../final_features/TCGA-23-1110.csv', '../../final_features/TCGA-OY-A56Q.csv', '../../final_features/TCGA-57-1586.csv', '../../final_features/TCGA-23-1107.csv', '../../final_features/TCGA-23-1113.csv', '../../final_features/TCGA-42-2582.csv', '../../final_features/TCGA-25-1635.csv', '../../final_features/TCGA-23-1122.csv', '../../final_features/TCGA-57-1992.csv', '../../final_features/TCGA-57-1993.csv', '../../final_features/TCGA-23-1123.csv', '../../final_features/TCGA-25-1634.csv', '../../final_features/TCGA-23-1109.csv', '../../final_features/TCGA-23-1121.csv', '../../final_features/TCGA-23-1120.csv', '../../final_features/TCGA-25-1623.csv', '../../final_features/TCGA-25-1627.csv', '../../final_features/TCGA-42-2589.csv', '../../final_features/TCGA-25-1633.csv', '../../final_features/TCGA-23-1118.csv', '../../final_features/TCGA-WR-A838.csv', '../../final_features/TCGA-57-1994.csv', '../../final_features/TCGA-23-1119.csv', '../../final_features/TCGA-25-1632.csv', '../../final_features/TCGA-42-2588.csv', '../../final_features/TCGA-25-1626.csv', '../../final_features/TCGA-25-1630.csv', '../../final_features/TCGA-25-1625.csv', '../../final_features/TCGA-25-1631.csv', '../../final_features/TCGA-25-1871.csv', '../../final_features/TCGA-25-1326.csv', '../../final_features/TCGA-23-1021.csv', '../../final_features/TCGA-25-2404.csv', '../../final_features/TCGA-25-1870.csv', '../../final_features/TCGA-23-2649.csv', '../../final_features/TCGA-25-1325.csv', '../../final_features/TCGA-25-1319.csv', '../../final_features/TCGA-23-1022.csv', '../../final_features/TCGA-23-2072.csv', '../../final_features/TCGA-23-1023.csv', '../../final_features/TCGA-25-1318.csv', '../../final_features/TCGA-25-1324.csv', '../../final_features/TCGA-25-1877.csv', '../../final_features/TCGA-25-1320.csv', '../../final_features/TCGA-23-1027.csv', '../../final_features/TCGA-23-2077.csv', '../../final_features/TCGA-23-1026.csv', '../../final_features/TCGA-23-1032.csv', '../../final_features/TCGA-25-1321.csv', '../../final_features/TCGA-59-A5PD.csv', '../../final_features/TCGA-25-2399.csv', '../../final_features/TCGA-25-2400.csv', '../../final_features/TCGA-25-1323.csv', '../../final_features/TCGA-23-1024.csv', '../../final_features/TCGA-23-1030.csv', '../../final_features/TCGA-3P-A9WA.csv', '../../final_features/TCGA-23-1031.csv', '../../final_features/TCGA-25-1322.csv', '../../final_features/TCGA-25-2401.csv', '../../final_features/TCGA-25-2398.csv']\n"
     ]
    }
   ],
   "source": [
    "print(files)"
   ]
  },
  {
   "cell_type": "code",
   "execution_count": 5,
   "id": "807293f2",
   "metadata": {},
   "outputs": [
    {
     "name": "stdout",
     "output_type": "stream",
     "text": [
      "102\n"
     ]
    }
   ],
   "source": [
    "features = []\n",
    "for file in files:\n",
    "    flag = -1\n",
    "    file_features = []\n",
    "    with open(file, newline='') as csvfile:\n",
    "        spamreader = csv.reader(csvfile)\n",
    "        for row in spamreader:\n",
    "            if flag == -1:\n",
    "                array = row\n",
    "                for index in range(0, len(array)):\n",
    "                    file_features.append(float(array[index]))\n",
    "    features.append(file_features)\n",
    "print(len(features))"
   ]
  },
  {
   "cell_type": "code",
   "execution_count": 6,
   "id": "22c40b86",
   "metadata": {},
   "outputs": [],
   "source": [
    "train_features = []\n",
    "val_features = []\n",
    "for index in range(0, 51):\n",
    "    current_features = []\n",
    "    current_features.append(index+1)\n",
    "    for index1 in range(0, len(features[index])):\n",
    "        current_features.append(features[index][index1])\n",
    "    train_features.append(current_features)\n",
    "\n",
    "for index in range(51, len(features)):\n",
    "    current_features = []\n",
    "    current_features.append(index+1-51)\n",
    "    for index1 in range(0, len(features[index])):\n",
    "        current_features.append(features[index][index1])\n",
    "    val_features.append(current_features)"
   ]
  },
  {
   "cell_type": "code",
   "execution_count": 7,
   "id": "ec04a133",
   "metadata": {},
   "outputs": [
    {
     "name": "stdout",
     "output_type": "stream",
     "text": [
      "51\n",
      "51\n"
     ]
    }
   ],
   "source": [
    "print(len(train_features))\n",
    "print(len(val_features))"
   ]
  },
  {
   "cell_type": "code",
   "execution_count": 8,
   "id": "8250ebc9",
   "metadata": {},
   "outputs": [
    {
     "name": "stdout",
     "output_type": "stream",
     "text": [
      "893\n",
      "893\n"
     ]
    }
   ],
   "source": [
    "print(len(train_features[0]))\n",
    "print(len(val_features[0]))"
   ]
  },
  {
   "cell_type": "code",
   "execution_count": 11,
   "id": "687d4195",
   "metadata": {},
   "outputs": [
    {
     "name": "stdout",
     "output_type": "stream",
     "text": [
      "893\n"
     ]
    }
   ],
   "source": [
    "rows = []\n",
    "rows.append(\"\")\n",
    "for index in range(1, 893):\n",
    "    rows.append(\"F_\" + str(index))\n",
    "print(len(rows))"
   ]
  },
  {
   "cell_type": "code",
   "execution_count": 12,
   "id": "1aada500",
   "metadata": {},
   "outputs": [
    {
     "name": "stdout",
     "output_type": "stream",
     "text": [
      "52\n"
     ]
    }
   ],
   "source": [
    "final_train_features = []\n",
    "final_train_features.append(rows)\n",
    "for index in range(0, len(train_features)):\n",
    "    final_train_features.append(train_features[index])\n",
    "print(len(final_train_features))"
   ]
  },
  {
   "cell_type": "code",
   "execution_count": 13,
   "id": "2dc47f48",
   "metadata": {},
   "outputs": [
    {
     "name": "stdout",
     "output_type": "stream",
     "text": [
      "52\n"
     ]
    }
   ],
   "source": [
    "final_val_features = []\n",
    "final_val_features.append(rows)\n",
    "for index in range(0, len(val_features)):\n",
    "    final_val_features.append(val_features[index])\n",
    "print(len(final_val_features))"
   ]
  },
  {
   "cell_type": "code",
   "execution_count": 14,
   "id": "f2b714d7",
   "metadata": {},
   "outputs": [],
   "source": [
    "# write csv file\n",
    "with open(\"train_features.csv\", 'w', newline='') as csvfile:\n",
    "    spamwriter = csv.writer(csvfile)\n",
    "    for index in range(0, len(final_train_features)):\n",
    "        spamwriter.writerow(final_train_features[index])"
   ]
  },
  {
   "cell_type": "code",
   "execution_count": 15,
   "id": "299f2fd4",
   "metadata": {},
   "outputs": [],
   "source": [
    "# write csv file\n",
    "with open(\"val_features.csv\", 'w', newline='') as csvfile:\n",
    "    spamwriter = csv.writer(csvfile)\n",
    "    for index in range(0, len(final_val_features)):\n",
    "        spamwriter.writerow(final_val_features[index])"
   ]
  },
  {
   "cell_type": "code",
   "execution_count": null,
   "id": "25999934",
   "metadata": {},
   "outputs": [],
   "source": []
  },
  {
   "cell_type": "code",
   "execution_count": 16,
   "id": "75db500b",
   "metadata": {},
   "outputs": [],
   "source": [
    "flag = -1\n",
    "new_filenames = []\n",
    "survival_info = []\n",
    "with open(\"../../Ov_TCGA_data.csv\", newline='') as csvfile:\n",
    "    spamreader = csv.reader(csvfile)\n",
    "    for row in spamreader:\n",
    "        file_survival_info = []\n",
    "        if flag == -1:\n",
    "            flag = 1\n",
    "        else:\n",
    "            array = row\n",
    "            new_filenames.append(array[1])\n",
    "            if array[10] == \"--\":\n",
    "                if array[len(array)-1] == \"--\":\n",
    "                    array[len(array)-1] = 50\n",
    "                file_survival_info.append(float(array[len(array)-1]))\n",
    "                file_survival_info.append(0)\n",
    "            else:\n",
    "                file_survival_info.append(float(array[10]))\n",
    "                file_survival_info.append(1)\n",
    "            survival_info.append(file_survival_info)"
   ]
  },
  {
   "cell_type": "code",
   "execution_count": 17,
   "id": "b2ed3c30",
   "metadata": {},
   "outputs": [],
   "source": [
    "y = []\n",
    "for file in files:\n",
    "    file = file.split(\"/\")[-1][:-4]\n",
    "    count = 0\n",
    "    flag = -1\n",
    "    for filename in new_filenames:\n",
    "        if file == filename:\n",
    "            y.append(survival_info[count])\n",
    "            flag = 1\n",
    "        count += 1"
   ]
  },
  {
   "cell_type": "code",
   "execution_count": 18,
   "id": "3ed092f3",
   "metadata": {},
   "outputs": [
    {
     "name": "stdout",
     "output_type": "stream",
     "text": [
      "[[2587.0, 1], [143.0, 0], [16.0, 0], [820.0, 1], [1503.0, 0], [2788.0, 0], [2661.0, 0], [268.0, 0], [31.0, 1], [361.0, 0], [92.0, 1], [1516.0, 1], [84.0, 0], [365.0, 1], [1157.0, 1], [137.0, 0], [457.0, 1], [1583.0, 1], [2342.0, 1], [1004.0, 1], [2009.0, 1], [31.0, 1], [821.0, 1], [1279.0, 1], [61.0, 1], [943.0, 1], [135.0, 0], [1492.0, 1], [627.0, 1], [1013.0, 1], [731.0, 1], [396.0, 1], [346.0, 1], [592.0, 1], [45.0, 1], [722.0, 0], [1240.0, 0], [2089.0, 1], [317.0, 1], [1207.0, 0], [98.0, 0], [53.0, 1], [1658.0, 0], [576.0, 0], [679.0, 0], [9.0, 1], [949.0, 1], [1447.0, 1], [1583.0, 1], [1189.0, 1], [882.0, 0], [763.0, 0], [1018.0, 1], [1091.0, 1], [1562.0, 1], [194.0, 0], [130.0, 0], [565.0, 1], [394.0, 1], [1278.0, 0], [1891.0, 1], [2616.0, 0], [304.0, 1], [761.0, 0], [3953.0, 0], [1799.0, 1], [880.0, 1], [518.0, 1], [1162.0, 1], [840.0, 1], [9.0, 1], [760.0, 1], [1249.0, 1], [1446.0, 1], [883.0, 1], [455.0, 1], [116.0, 0], [976.0, 1], [1977.0, 1], [1511.0, 1], [759.0, 1], [1233.0, 0], [1064.0, 1], [1035.0, 1], [730.0, 1], [1155.0, 1], [976.0, 1], [3525.0, 0], [816.0, 0], [84.0, 1], [1033.0, 1], [624.0, 1], [608.0, 1], [1278.0, 1], [395.0, 1], [468.0, 0], [886.0, 0], [420.0, 0], [575.0, 1], [91.0, 1], [90.0, 1], [1369.0, 1]]\n"
     ]
    }
   ],
   "source": [
    "print(y)"
   ]
  },
  {
   "cell_type": "code",
   "execution_count": 19,
   "id": "a511eef7",
   "metadata": {},
   "outputs": [
    {
     "name": "stdout",
     "output_type": "stream",
     "text": [
      "51\n",
      "51\n"
     ]
    }
   ],
   "source": [
    "train_labels = []\n",
    "val_labels = []\n",
    "for index in range(0, 51):\n",
    "    current_labels = []\n",
    "    current_labels.append(index+1)\n",
    "    for index1 in range(0, len(y[index])):\n",
    "        current_labels.append(y[index][index1])\n",
    "    train_labels.append(current_labels)\n",
    "    \n",
    "for index in range(51, len(y)):\n",
    "    current_labels = []\n",
    "    current_labels.append(index+1-51)\n",
    "    for index1 in range(0, len(y[index])):\n",
    "        current_labels.append(y[index][index1])\n",
    "    val_labels.append(current_labels)\n",
    "print(len(train_labels))\n",
    "print(len(val_labels))"
   ]
  },
  {
   "cell_type": "code",
   "execution_count": 20,
   "id": "5d6400d4",
   "metadata": {},
   "outputs": [],
   "source": [
    "rows = []\n",
    "rows.append(\"\")\n",
    "rows.append(\"Survival (in days)\")\n",
    "rows.append(\"Status\")"
   ]
  },
  {
   "cell_type": "code",
   "execution_count": 21,
   "id": "83e371dc",
   "metadata": {},
   "outputs": [
    {
     "name": "stdout",
     "output_type": "stream",
     "text": [
      "52\n"
     ]
    }
   ],
   "source": [
    "final_train_labels = []\n",
    "final_train_labels.append(rows)\n",
    "for index in range(0, len(train_labels)):\n",
    "    final_train_labels.append(train_labels[index])\n",
    "print(len(final_train_labels))"
   ]
  },
  {
   "cell_type": "code",
   "execution_count": 22,
   "id": "ba5acbc3",
   "metadata": {},
   "outputs": [
    {
     "name": "stdout",
     "output_type": "stream",
     "text": [
      "52\n"
     ]
    }
   ],
   "source": [
    "final_val_labels = []\n",
    "final_val_labels.append(rows)\n",
    "for index in range(0, len(val_labels)):\n",
    "    final_val_labels.append(val_labels[index])\n",
    "print(len(final_val_labels))"
   ]
  },
  {
   "cell_type": "code",
   "execution_count": 23,
   "id": "03eae724",
   "metadata": {},
   "outputs": [],
   "source": [
    "# write csv file\n",
    "with open(\"train_labels.csv\", 'w', newline='') as csvfile:\n",
    "    spamwriter = csv.writer(csvfile)\n",
    "    for index in range(0, len(final_train_labels)):\n",
    "        spamwriter.writerow(final_train_labels[index])"
   ]
  },
  {
   "cell_type": "code",
   "execution_count": 24,
   "id": "95d51f5d",
   "metadata": {},
   "outputs": [],
   "source": [
    "# write csv file\n",
    "with open(\"val_labels.csv\", 'w', newline='') as csvfile:\n",
    "    spamwriter = csv.writer(csvfile)\n",
    "    for index in range(0, len(final_val_labels)):\n",
    "        spamwriter.writerow(final_val_labels[index])"
   ]
  },
  {
   "cell_type": "code",
   "execution_count": null,
   "id": "573c408b",
   "metadata": {},
   "outputs": [],
   "source": []
  }
 ],
 "metadata": {
  "kernelspec": {
   "display_name": "Python 3",
   "language": "python",
   "name": "python3"
  },
  "language_info": {
   "codemirror_mode": {
    "name": "ipython",
    "version": 3
   },
   "file_extension": ".py",
   "mimetype": "text/x-python",
   "name": "python",
   "nbconvert_exporter": "python",
   "pygments_lexer": "ipython3",
   "version": "3.8.8"
  }
 },
 "nbformat": 4,
 "nbformat_minor": 5
}
