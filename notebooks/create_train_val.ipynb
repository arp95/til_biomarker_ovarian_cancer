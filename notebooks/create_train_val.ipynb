{
 "cells": [
  {
   "cell_type": "code",
   "execution_count": 1,
   "id": "95e7d091",
   "metadata": {},
   "outputs": [],
   "source": [
    "import scipy, importlib, pprint, matplotlib.pyplot as plt, warnings\n",
    "#from glmnet import glmnet; from glmnetPlot import glmnetPlot \n",
    "#from glmnetPrint import glmnetPrint; from glmnetCoef import glmnetCoef; from glmnetPredict import glmnetPredict\n",
    "#from cvglmnet import cvglmnet; from cvglmnetCoef import cvglmnetCoef\n",
    "#from cvglmnetPlot import cvglmnetPlot; from cvglmnetPredict import cvglmnetPredict\n",
    "import glob\n",
    "import csv\n",
    "import numpy as np\n",
    "from sksurv.nonparametric import kaplan_meier_estimator\n",
    "from sksurv.linear_model import CoxPHSurvivalAnalysis\n",
    "from sksurv.preprocessing import OneHotEncoder\n",
    "%matplotlib inline\n",
    "import matplotlib.pyplot as plt"
   ]
  },
  {
   "cell_type": "code",
   "execution_count": 2,
   "id": "0a3f6e54",
   "metadata": {},
   "outputs": [
    {
     "name": "stdout",
     "output_type": "stream",
     "text": [
      "102\n"
     ]
    }
   ],
   "source": [
    "files = glob.glob(\"final_features/*\")\n",
    "print(len(files))"
   ]
  },
  {
   "cell_type": "code",
   "execution_count": 3,
   "id": "edceaabc",
   "metadata": {},
   "outputs": [
    {
     "name": "stdout",
     "output_type": "stream",
     "text": [
      "['final_features/TCGA-25-1878.csv', 'final_features/TCGA-23-2643.csv', 'final_features/TCGA-23-1809.csv', 'final_features/TCGA-25-1313.csv', 'final_features/TCGA-23-1028.csv', 'final_features/TCGA-23-2079.csv', 'final_features/TCGA-23-2078.csv', 'final_features/TCGA-23-1029.csv', 'final_features/TCGA-25-1312.csv', 'final_features/TCGA-5X-AA5U.csv', 'final_features/TCGA-25-2396.csv', 'final_features/TCGA-23-2084.csv', 'final_features/TCGA-23-2641.csv', 'final_features/TCGA-25-2397.csv', 'final_features/TCGA-25-2393.csv', 'final_features/TCGA-23-2645.csv', 'final_features/TCGA-25-1329.csv', 'final_features/TCGA-25-1315.csv', 'final_features/TCGA-23-2081.csv', 'final_features/TCGA-25-1314.csv', 'final_features/TCGA-25-1328.csv', 'final_features/TCGA-25-2392.csv', 'final_features/TCGA-25-2409.csv', 'final_features/TCGA-25-1316.csv', 'final_features/TCGA-25-1317.csv', 'final_features/TCGA-25-2408.csv', 'final_features/TCGA-23-2647.csv', 'final_features/TCGA-25-2391.csv', 'final_features/TCGA-25-1628.csv', 'final_features/TCGA-23-1117.csv', 'final_features/TCGA-57-1582.csv', 'final_features/TCGA-25-2042.csv', 'final_features/TCGA-57-1583.csv', 'final_features/TCGA-23-1116.csv', 'final_features/TCGA-42-2593.csv', 'final_features/TCGA-42-2587.csv', 'final_features/TCGA-42-2591.csv', 'final_features/TCGA-23-1114.csv', 'final_features/TCGA-42-2590.csv', 'final_features/TCGA-OY-A56P.csv', 'final_features/TCGA-23-1111.csv', 'final_features/TCGA-57-1585.csv', 'final_features/TCGA-23-1110.csv', 'final_features/TCGA-OY-A56Q.csv', 'final_features/TCGA-57-1586.csv', 'final_features/TCGA-23-1107.csv', 'final_features/TCGA-23-1113.csv', 'final_features/TCGA-42-2582.csv', 'final_features/TCGA-25-1635.csv', 'final_features/TCGA-23-1122.csv', 'final_features/TCGA-57-1992.csv', 'final_features/TCGA-57-1993.csv', 'final_features/TCGA-23-1123.csv', 'final_features/TCGA-25-1634.csv', 'final_features/TCGA-23-1109.csv', 'final_features/TCGA-23-1121.csv', 'final_features/TCGA-23-1120.csv', 'final_features/TCGA-25-1623.csv', 'final_features/TCGA-25-1627.csv', 'final_features/TCGA-42-2589.csv', 'final_features/TCGA-25-1633.csv', 'final_features/TCGA-23-1118.csv', 'final_features/TCGA-WR-A838.csv', 'final_features/TCGA-57-1994.csv', 'final_features/TCGA-23-1119.csv', 'final_features/TCGA-25-1632.csv', 'final_features/TCGA-42-2588.csv', 'final_features/TCGA-25-1626.csv', 'final_features/TCGA-25-1630.csv', 'final_features/TCGA-25-1625.csv', 'final_features/TCGA-25-1631.csv', 'final_features/TCGA-25-1871.csv', 'final_features/TCGA-25-1326.csv', 'final_features/TCGA-23-1021.csv', 'final_features/TCGA-25-2404.csv', 'final_features/TCGA-25-1870.csv', 'final_features/TCGA-23-2649.csv', 'final_features/TCGA-25-1325.csv', 'final_features/TCGA-25-1319.csv', 'final_features/TCGA-23-1022.csv', 'final_features/TCGA-23-2072.csv', 'final_features/TCGA-23-1023.csv', 'final_features/TCGA-25-1318.csv', 'final_features/TCGA-25-1324.csv', 'final_features/TCGA-25-1877.csv', 'final_features/TCGA-25-1320.csv', 'final_features/TCGA-23-1027.csv', 'final_features/TCGA-23-2077.csv', 'final_features/TCGA-23-1026.csv', 'final_features/TCGA-23-1032.csv', 'final_features/TCGA-25-1321.csv', 'final_features/TCGA-59-A5PD.csv', 'final_features/TCGA-25-2399.csv', 'final_features/TCGA-25-2400.csv', 'final_features/TCGA-25-1323.csv', 'final_features/TCGA-23-1024.csv', 'final_features/TCGA-23-1030.csv', 'final_features/TCGA-3P-A9WA.csv', 'final_features/TCGA-23-1031.csv', 'final_features/TCGA-25-1322.csv', 'final_features/TCGA-25-2401.csv', 'final_features/TCGA-25-2398.csv']\n"
     ]
    }
   ],
   "source": [
    "print(files)"
   ]
  },
  {
   "cell_type": "code",
   "execution_count": 4,
   "id": "f2807ec0",
   "metadata": {},
   "outputs": [
    {
     "name": "stdout",
     "output_type": "stream",
     "text": [
      "final_features/TCGA-25-1878.csv\n",
      "final_features/TCGA-23-2643.csv\n",
      "final_features/TCGA-23-1809.csv\n",
      "final_features/TCGA-25-1313.csv\n",
      "final_features/TCGA-23-1028.csv\n",
      "final_features/TCGA-23-2079.csv\n",
      "final_features/TCGA-23-2078.csv\n",
      "final_features/TCGA-23-1029.csv\n",
      "final_features/TCGA-25-1312.csv\n",
      "final_features/TCGA-5X-AA5U.csv\n",
      "final_features/TCGA-25-2396.csv\n",
      "final_features/TCGA-23-2084.csv\n",
      "final_features/TCGA-23-2641.csv\n",
      "final_features/TCGA-25-2397.csv\n",
      "final_features/TCGA-25-2393.csv\n",
      "final_features/TCGA-23-2645.csv\n",
      "final_features/TCGA-25-1329.csv\n",
      "final_features/TCGA-25-1315.csv\n",
      "final_features/TCGA-23-2081.csv\n",
      "final_features/TCGA-25-1314.csv\n",
      "final_features/TCGA-25-1328.csv\n",
      "final_features/TCGA-25-2392.csv\n",
      "final_features/TCGA-25-2409.csv\n",
      "final_features/TCGA-25-1316.csv\n",
      "final_features/TCGA-25-1317.csv\n",
      "final_features/TCGA-25-2408.csv\n",
      "final_features/TCGA-23-2647.csv\n",
      "final_features/TCGA-25-2391.csv\n",
      "final_features/TCGA-25-1628.csv\n",
      "final_features/TCGA-23-1117.csv\n",
      "final_features/TCGA-57-1582.csv\n",
      "final_features/TCGA-25-2042.csv\n",
      "final_features/TCGA-57-1583.csv\n",
      "final_features/TCGA-23-1116.csv\n",
      "final_features/TCGA-42-2593.csv\n",
      "final_features/TCGA-42-2587.csv\n",
      "final_features/TCGA-42-2591.csv\n",
      "final_features/TCGA-23-1114.csv\n",
      "final_features/TCGA-42-2590.csv\n",
      "final_features/TCGA-OY-A56P.csv\n",
      "final_features/TCGA-23-1111.csv\n",
      "final_features/TCGA-57-1585.csv\n",
      "final_features/TCGA-23-1110.csv\n",
      "final_features/TCGA-OY-A56Q.csv\n",
      "final_features/TCGA-57-1586.csv\n",
      "final_features/TCGA-23-1107.csv\n",
      "final_features/TCGA-23-1113.csv\n",
      "final_features/TCGA-42-2582.csv\n",
      "final_features/TCGA-25-1635.csv\n",
      "final_features/TCGA-23-1122.csv\n",
      "final_features/TCGA-57-1992.csv\n",
      "final_features/TCGA-57-1993.csv\n",
      "final_features/TCGA-23-1123.csv\n",
      "final_features/TCGA-25-1634.csv\n",
      "final_features/TCGA-23-1109.csv\n",
      "final_features/TCGA-23-1121.csv\n",
      "final_features/TCGA-23-1120.csv\n",
      "final_features/TCGA-25-1623.csv\n",
      "final_features/TCGA-25-1627.csv\n",
      "final_features/TCGA-42-2589.csv\n",
      "final_features/TCGA-25-1633.csv\n",
      "final_features/TCGA-23-1118.csv\n",
      "final_features/TCGA-WR-A838.csv\n",
      "final_features/TCGA-57-1994.csv\n",
      "final_features/TCGA-23-1119.csv\n",
      "final_features/TCGA-25-1632.csv\n",
      "final_features/TCGA-42-2588.csv\n",
      "final_features/TCGA-25-1626.csv\n",
      "final_features/TCGA-25-1630.csv\n",
      "final_features/TCGA-25-1625.csv\n",
      "final_features/TCGA-25-1631.csv\n",
      "final_features/TCGA-25-1871.csv\n",
      "final_features/TCGA-25-1326.csv\n",
      "final_features/TCGA-23-1021.csv\n",
      "final_features/TCGA-25-2404.csv\n",
      "final_features/TCGA-25-1870.csv\n",
      "final_features/TCGA-23-2649.csv\n",
      "final_features/TCGA-25-1325.csv\n",
      "final_features/TCGA-25-1319.csv\n",
      "final_features/TCGA-23-1022.csv\n",
      "final_features/TCGA-23-2072.csv\n",
      "final_features/TCGA-23-1023.csv\n",
      "final_features/TCGA-25-1318.csv\n",
      "final_features/TCGA-25-1324.csv\n",
      "final_features/TCGA-25-1877.csv\n",
      "final_features/TCGA-25-1320.csv\n",
      "final_features/TCGA-23-1027.csv\n",
      "final_features/TCGA-23-2077.csv\n",
      "final_features/TCGA-23-1026.csv\n",
      "final_features/TCGA-23-1032.csv\n",
      "final_features/TCGA-25-1321.csv\n",
      "final_features/TCGA-59-A5PD.csv\n",
      "final_features/TCGA-25-2399.csv\n",
      "final_features/TCGA-25-2400.csv\n",
      "final_features/TCGA-25-1323.csv\n",
      "final_features/TCGA-23-1024.csv\n",
      "final_features/TCGA-23-1030.csv\n",
      "final_features/TCGA-3P-A9WA.csv\n",
      "final_features/TCGA-23-1031.csv\n",
      "final_features/TCGA-25-1322.csv\n",
      "final_features/TCGA-25-2401.csv\n",
      "final_features/TCGA-25-2398.csv\n"
     ]
    }
   ],
   "source": [
    "for file in files:\n",
    "    print(file)"
   ]
  },
  {
   "cell_type": "code",
   "execution_count": 10,
   "id": "d606ef9b",
   "metadata": {},
   "outputs": [
    {
     "data": {
      "text/plain": [
       "'final_features/TCGA-25-1321.csv'"
      ]
     },
     "execution_count": 10,
     "metadata": {},
     "output_type": "execute_result"
    }
   ],
   "source": [
    "files[90]"
   ]
  },
  {
   "cell_type": "code",
   "execution_count": null,
   "id": "807293f2",
   "metadata": {},
   "outputs": [],
   "source": [
    "features = []\n",
    "for file in files:\n",
    "    flag = -1\n",
    "    file_features = []\n",
    "    with open(file, newline='') as csvfile:\n",
    "        spamreader = csv.reader(csvfile)\n",
    "        for row in spamreader:\n",
    "            if flag == -1:\n",
    "                array = row\n",
    "                for index in range(0, len(array)):\n",
    "                    file_features.append(float(array[index]))\n",
    "    features.append(file_features)\n",
    "print(len(features))"
   ]
  },
  {
   "cell_type": "code",
   "execution_count": null,
   "id": "22c40b86",
   "metadata": {},
   "outputs": [],
   "source": [
    "train_features = []\n",
    "val_features = []\n",
    "for index in range(0, 51):\n",
    "    current_features = []\n",
    "    current_features.append(index+1)\n",
    "    for index1 in range(0, len(features[index])):\n",
    "        current_features.append(features[index][index1])\n",
    "    train_features.append(current_features)\n",
    "\n",
    "for index in range(51, len(features)):\n",
    "    current_features = []\n",
    "    current_features.append(index+1-51)\n",
    "    for index1 in range(0, len(features[index])):\n",
    "        current_features.append(features[index][index1])\n",
    "    val_features.append(current_features)"
   ]
  },
  {
   "cell_type": "code",
   "execution_count": null,
   "id": "ec04a133",
   "metadata": {},
   "outputs": [],
   "source": [
    "print(len(train_features))\n",
    "print(len(val_features))"
   ]
  },
  {
   "cell_type": "code",
   "execution_count": null,
   "id": "687d4195",
   "metadata": {},
   "outputs": [],
   "source": [
    "rows = []\n",
    "rows.append(\"\")\n",
    "for index in range(1, 893):\n",
    "    rows.append(\"F_\" + str(index))\n",
    "print(len(rows))"
   ]
  },
  {
   "cell_type": "code",
   "execution_count": null,
   "id": "1aada500",
   "metadata": {},
   "outputs": [],
   "source": [
    "final_train_features = []\n",
    "final_train_features.append(rows)\n",
    "for index in range(0, len(train_features)):\n",
    "    final_train_features.append(train_features[index])\n",
    "print(len(final_train_features))"
   ]
  },
  {
   "cell_type": "code",
   "execution_count": null,
   "id": "2dc47f48",
   "metadata": {},
   "outputs": [],
   "source": [
    "final_val_features = []\n",
    "final_val_features.append(rows)\n",
    "for index in range(0, len(val_features)):\n",
    "    final_val_features.append(val_features[index])\n",
    "print(len(final_val_features))"
   ]
  },
  {
   "cell_type": "code",
   "execution_count": null,
   "id": "f2b714d7",
   "metadata": {},
   "outputs": [],
   "source": [
    "# write csv file\n",
    "with open(\"train_features.csv\", 'w', newline='') as csvfile:\n",
    "    spamwriter = csv.writer(csvfile)\n",
    "    for index in range(0, len(final_train_features)):\n",
    "        spamwriter.writerow(final_train_features[index])"
   ]
  },
  {
   "cell_type": "code",
   "execution_count": null,
   "id": "299f2fd4",
   "metadata": {},
   "outputs": [],
   "source": [
    "# write csv file\n",
    "with open(\"val_features.csv\", 'w', newline='') as csvfile:\n",
    "    spamwriter = csv.writer(csvfile)\n",
    "    for index in range(0, len(final_val_features)):\n",
    "        spamwriter.writerow(final_val_features[index])"
   ]
  },
  {
   "cell_type": "code",
   "execution_count": null,
   "id": "25999934",
   "metadata": {},
   "outputs": [],
   "source": []
  },
  {
   "cell_type": "code",
   "execution_count": null,
   "id": "75db500b",
   "metadata": {},
   "outputs": [],
   "source": [
    "flag = -1\n",
    "new_filenames = []\n",
    "survival_info = []\n",
    "with open(\"Ov_TCGA_data.csv\", newline='') as csvfile:\n",
    "    spamreader = csv.reader(csvfile)\n",
    "    for row in spamreader:\n",
    "        file_survival_info = []\n",
    "        if flag == -1:\n",
    "            flag = 1\n",
    "        else:\n",
    "            array = row\n",
    "            new_filenames.append(array[1])\n",
    "            if array[10] == \"--\":\n",
    "                if array[len(array)-1] == \"--\":\n",
    "                    array[len(array)-1] = 50\n",
    "                file_survival_info.append(float(array[len(array)-1]))\n",
    "                file_survival_info.append(0)\n",
    "            else:\n",
    "                file_survival_info.append(float(array[10]))\n",
    "                file_survival_info.append(1)\n",
    "            survival_info.append(file_survival_info)"
   ]
  },
  {
   "cell_type": "code",
   "execution_count": null,
   "id": "b2ed3c30",
   "metadata": {},
   "outputs": [],
   "source": [
    "y = []\n",
    "for file in files:\n",
    "    file = file.split(\"/\")[-1][:-4]\n",
    "    count = 0\n",
    "    flag = -1\n",
    "    for filename in new_filenames:\n",
    "        if file == filename:\n",
    "            y.append(survival_info[count])\n",
    "            flag = 1\n",
    "        count += 1"
   ]
  },
  {
   "cell_type": "code",
   "execution_count": null,
   "id": "a511eef7",
   "metadata": {},
   "outputs": [],
   "source": [
    "train_labels = []\n",
    "val_labels = []\n",
    "for index in range(0, 51):\n",
    "    current_labels = []\n",
    "    current_labels.append(index+1)\n",
    "    for index1 in range(0, len(y[index])):\n",
    "        current_labels.append(y[index][index1])\n",
    "    train_labels.append(current_labels)\n",
    "    \n",
    "for index in range(51, len(y)):\n",
    "    current_labels = []\n",
    "    current_labels.append(index+1-51)\n",
    "    for index1 in range(0, len(y[index])):\n",
    "        current_labels.append(y[index][index1])\n",
    "    val_labels.append(current_labels)\n",
    "print(len(train_labels))\n",
    "print(len(val_labels))"
   ]
  },
  {
   "cell_type": "code",
   "execution_count": null,
   "id": "5d6400d4",
   "metadata": {},
   "outputs": [],
   "source": [
    "rows = []\n",
    "rows.append(\"\")\n",
    "rows.append(\"Survival (in days)\")\n",
    "rows.append(\"Status\")"
   ]
  },
  {
   "cell_type": "code",
   "execution_count": null,
   "id": "83e371dc",
   "metadata": {},
   "outputs": [],
   "source": [
    "final_train_labels = []\n",
    "final_train_labels.append(rows)\n",
    "for index in range(0, len(train_labels)):\n",
    "    final_train_labels.append(train_labels[index])\n",
    "print(len(final_train_labels))"
   ]
  },
  {
   "cell_type": "code",
   "execution_count": null,
   "id": "ba5acbc3",
   "metadata": {},
   "outputs": [],
   "source": [
    "final_val_labels = []\n",
    "final_val_labels.append(rows)\n",
    "for index in range(0, len(val_labels)):\n",
    "    final_val_labels.append(val_labels[index])\n",
    "print(len(final_val_labels))"
   ]
  },
  {
   "cell_type": "code",
   "execution_count": null,
   "id": "03eae724",
   "metadata": {},
   "outputs": [],
   "source": [
    "# write csv file\n",
    "with open(\"train_labels.csv\", 'w', newline='') as csvfile:\n",
    "    spamwriter = csv.writer(csvfile)\n",
    "    for index in range(0, len(final_train_labels)):\n",
    "        spamwriter.writerow(final_train_labels[index])"
   ]
  },
  {
   "cell_type": "code",
   "execution_count": null,
   "id": "95d51f5d",
   "metadata": {},
   "outputs": [],
   "source": [
    "# write csv file\n",
    "with open(\"val_labels.csv\", 'w', newline='') as csvfile:\n",
    "    spamwriter = csv.writer(csvfile)\n",
    "    for index in range(0, len(final_val_labels)):\n",
    "        spamwriter.writerow(final_val_labels[index])"
   ]
  },
  {
   "cell_type": "code",
   "execution_count": null,
   "id": "4fea170e",
   "metadata": {},
   "outputs": [],
   "source": []
  },
  {
   "cell_type": "code",
   "execution_count": null,
   "id": "0a47dc84",
   "metadata": {},
   "outputs": [],
   "source": [
    "rows = []\n",
    "rows.append(\"\")\n",
    "rows.append(\"Filenames\")"
   ]
  },
  {
   "cell_type": "code",
   "execution_count": null,
   "id": "73bfcc57",
   "metadata": {},
   "outputs": [],
   "source": [
    "filenames = []\n",
    "filenames.append(rows)\n",
    "for index in range(0, len(files)):\n",
    "    f = []\n",
    "    f.append(index+1)\n",
    "    f.append(files[index])\n",
    "    filenames.append(f)"
   ]
  },
  {
   "cell_type": "code",
   "execution_count": null,
   "id": "eae840e6",
   "metadata": {},
   "outputs": [],
   "source": [
    "# write csv file\n",
    "with open(\"filenames.csv\", 'w', newline='') as csvfile:\n",
    "    spamwriter = csv.writer(csvfile)\n",
    "    for index in range(0, len(filenames)):\n",
    "        spamwriter.writerow(filenames[index])"
   ]
  },
  {
   "cell_type": "code",
   "execution_count": null,
   "id": "80e26a69",
   "metadata": {},
   "outputs": [],
   "source": []
  },
  {
   "cell_type": "code",
   "execution_count": null,
   "id": "a394a7e6",
   "metadata": {},
   "outputs": [],
   "source": [
    "print(y)"
   ]
  },
  {
   "cell_type": "code",
   "execution_count": null,
   "id": "c1ee8333",
   "metadata": {},
   "outputs": [],
   "source": [
    "x = features"
   ]
  },
  {
   "cell_type": "code",
   "execution_count": null,
   "id": "50354ff9",
   "metadata": {},
   "outputs": [],
   "source": [
    "print(x)"
   ]
  },
  {
   "cell_type": "code",
   "execution_count": null,
   "id": "69bcdf25",
   "metadata": {},
   "outputs": [],
   "source": [
    "print(np.array(x).shape)\n",
    "print(np.array(y).shape)"
   ]
  },
  {
   "cell_type": "code",
   "execution_count": null,
   "id": "7ba1403f",
   "metadata": {},
   "outputs": [],
   "source": []
  },
  {
   "cell_type": "code",
   "execution_count": null,
   "id": "f770a269",
   "metadata": {},
   "outputs": [],
   "source": [
    "y_status = []\n",
    "y_survival = []\n",
    "for index in range(0, len(y)):\n",
    "    if y[index][1] == 0:\n",
    "        y_status.append(False)\n",
    "    else:\n",
    "        y_status.append(True)\n",
    "    y_survival.append(y[index][0])\n",
    "print(len(y_survival))\n",
    "print(len(y_status))"
   ]
  },
  {
   "cell_type": "code",
   "execution_count": null,
   "id": "b71bd9fa",
   "metadata": {},
   "outputs": [],
   "source": [
    "time, survival_prob = kaplan_meier_estimator(y_status, y_survival)\n",
    "plt.step(time, survival_prob, where=\"post\")\n",
    "plt.ylabel(\"est. probability of survival $\\hat{S}(t)$\")\n",
    "plt.xlabel(\"time $t$\")"
   ]
  },
  {
   "cell_type": "code",
   "execution_count": null,
   "id": "7d420e0f",
   "metadata": {},
   "outputs": [],
   "source": []
  },
  {
   "cell_type": "code",
   "execution_count": null,
   "id": "9e5f5018",
   "metadata": {},
   "outputs": [],
   "source": [
    "estimator = CoxPHSurvivalAnalysis()"
   ]
  },
  {
   "cell_type": "code",
   "execution_count": null,
   "id": "e4f09a6b",
   "metadata": {},
   "outputs": [],
   "source": [
    "data_x_numeric = OneHotEncoder().fit_transform(x)"
   ]
  },
  {
   "cell_type": "code",
   "execution_count": null,
   "id": "c6bf28b5",
   "metadata": {},
   "outputs": [],
   "source": []
  }
 ],
 "metadata": {
  "kernelspec": {
   "display_name": "Python 3",
   "language": "python",
   "name": "python3"
  },
  "language_info": {
   "codemirror_mode": {
    "name": "ipython",
    "version": 3
   },
   "file_extension": ".py",
   "mimetype": "text/x-python",
   "name": "python",
   "nbconvert_exporter": "python",
   "pygments_lexer": "ipython3",
   "version": "3.8.8"
  }
 },
 "nbformat": 4,
 "nbformat_minor": 5
}
