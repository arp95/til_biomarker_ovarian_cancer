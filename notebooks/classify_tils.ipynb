{
 "cells": [
  {
   "cell_type": "code",
   "execution_count": 1,
   "id": "20b8896c",
   "metadata": {},
   "outputs": [],
   "source": [
    "# header files\n",
    "import numpy as np\n",
    "import glob\n",
    "import csv"
   ]
  },
  {
   "cell_type": "code",
   "execution_count": 3,
   "id": "5cc828fa",
   "metadata": {},
   "outputs": [
    {
     "name": "stdout",
     "output_type": "stream",
     "text": [
      "[[1 2 3 4 5 6 7 8 9]]\n"
     ]
    }
   ],
   "source": [
    "image = np.array([[1, 2, 3], [4, 5, 6], [7, 8, 9]])\n",
    "print(np.reshape(image, (1, 9)))"
   ]
  },
  {
   "cell_type": "code",
   "execution_count": 5,
   "id": "bff2c0f5",
   "metadata": {},
   "outputs": [
    {
     "name": "stdout",
     "output_type": "stream",
     "text": [
      "[[4.82028157 4.41481646 4.12713439]\n",
      " [3.90399083 3.72166928 3.5675186 ]\n",
      " [3.4339872  3.31620417 3.21084365]]\n"
     ]
    }
   ],
   "source": [
    "print(-np.log((np.double(image)+1)/248))"
   ]
  },
  {
   "cell_type": "code",
   "execution_count": null,
   "id": "dc2e450c",
   "metadata": {},
   "outputs": [],
   "source": [
    "# function for normalizing image\n",
    "def normalize_image(image):\n",
    "    # OD threshold for transparent pixels\n",
    "    beta = 0.15\n",
    "    # tolerance for pseudo-min and pseudo-max\n",
    "    alpha = 1\n",
    "    # reference H&E OD matrix\n",
    "    HERef = [[0.5626, 0.2159], [0.7201, 0.8012], [0.4062, 0.5581]]\n",
    "    # reference maximum stain concentrations for H&E\n",
    "    maxCRef = [[1.9705], [1.0308]]\n",
    "    \n",
    "    # get image dimensions\n",
    "    height = image.shape[0]\n",
    "    width = image.shape[1]\n",
    "    \n",
    "    # convert image to double type\n",
    "    image = np.double(image)\n",
    "    \n",
    "    # resize image to (height*width, 3)\n",
    "    image = np.reshape(image, (int(image.shape[0])*int(image.shape[1]), 3))\n",
    "    \n",
    "    # apply transmitted light intensity\n",
    "    image_io = np.log((image+1) / 248)"
   ]
  }
 ],
 "metadata": {
  "kernelspec": {
   "display_name": "Python 3",
   "language": "python",
   "name": "python3"
  },
  "language_info": {
   "codemirror_mode": {
    "name": "ipython",
    "version": 3
   },
   "file_extension": ".py",
   "mimetype": "text/x-python",
   "name": "python",
   "nbconvert_exporter": "python",
   "pygments_lexer": "ipython3",
   "version": "3.8.8"
  }
 },
 "nbformat": 4,
 "nbformat_minor": 5
}
